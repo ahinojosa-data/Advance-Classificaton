{
 "cells": [
  {
   "cell_type": "markdown",
   "metadata": {},
   "source": [
    "# Advanced Classification - Logistic Regression - Exercises with Answers"
   ]
  },
  {
   "cell_type": "markdown",
   "metadata": {},
   "source": [
    "## Exercise 1"
   ]
  },
  {
   "cell_type": "markdown",
   "metadata": {},
   "source": [
    "#### Task 1 \n",
    "##### Import the required packages to perform logistic regression.\n",
    "##### Set the working directory to data directory.\n",
    "##### Print the working directory.\n",
    "\n",
    "#### Result:"
   ]
  },
  {
   "cell_type": "code",
   "execution_count": 122,
   "metadata": {},
   "outputs": [],
   "source": [
    "import warnings\n",
    "warnings.filterwarnings(\"ignore\", category=FutureWarning)\n",
    "import os\n",
    "import numpy as np\n",
    "import pandas as pd\n",
    "import matplotlib.pyplot as plt\n",
    "import pickle\n",
    "\n",
    "# Scikit-learn package for logistic regression.\n",
    "from sklearn import linear_model\n",
    "\n",
    "# Model set up and tuning packages from scikit-learn.\n",
    "from sklearn.model_selection import train_test_split\n",
    "from sklearn.model_selection import GridSearchCV\n",
    "\n",
    "# Scikit-learn packages for evaluating model performance.\n",
    "from sklearn import metrics\n",
    "from sklearn.metrics import accuracy_score, classification_report, confusion_matrix\n",
    "\n",
    "# Scikit-learn package for data preprocessing\n",
    "from sklearn import preprocessing"
   ]
  },
  {
   "cell_type": "code",
   "execution_count": 123,
   "metadata": {},
   "outputs": [],
   "source": [
    "from pathlib import Path\n",
    "# Set `home_dir` to the root directory of your computer.\n",
    "home_dir = Path.home()\n",
    "\n",
    "# Set `main_dir` to the location of your `advanced-classification` folder.\n",
    "main_dir = home_dir / \"Desktop\" / \"advanced-classification\"\n",
    "\n",
    "# Make `data_dir` from the `main_dir` and remainder of the path to data directory.\n",
    "data_dir = main_dir / \"data\""
   ]
  },
  {
   "cell_type": "code",
   "execution_count": null,
   "metadata": {},
   "outputs": [],
   "source": [
    "# Change the working directory.\n",
    "os.chdir(data_dir)\n",
    "\n",
    "# Check the working directory.\n",
    "print(os.getcwd())"
   ]
  },
  {
   "cell_type": "markdown",
   "metadata": {},
   "source": [
    "#### Task 2\n",
    "##### Load the dataset `bank_marketing.csv` and save it to `bank_marketing`.\n",
    "##### Print the first few rows of `bank_marketing`.\n",
    "##### Print the frequecy of the target variable `y`.\n",
    "\n",
    "#### Result:"
   ]
  },
  {
   "cell_type": "code",
   "execution_count": 130,
   "metadata": {
    "ExecuteTime": {
     "end_time": "2020-06-22T14:51:41.501693Z",
     "start_time": "2020-06-22T14:51:41.453678Z"
    },
    "scrolled": true
   },
   "outputs": [
    {
     "data": {
      "text/html": [
       "<div>\n",
       "<style scoped>\n",
       "    .dataframe tbody tr th:only-of-type {\n",
       "        vertical-align: middle;\n",
       "    }\n",
       "\n",
       "    .dataframe tbody tr th {\n",
       "        vertical-align: top;\n",
       "    }\n",
       "\n",
       "    .dataframe thead th {\n",
       "        text-align: right;\n",
       "    }\n",
       "</style>\n",
       "<table border=\"1\" class=\"dataframe\">\n",
       "  <thead>\n",
       "    <tr style=\"text-align: right;\">\n",
       "      <th></th>\n",
       "      <th>age</th>\n",
       "      <th>job</th>\n",
       "      <th>marital</th>\n",
       "      <th>education</th>\n",
       "      <th>default</th>\n",
       "      <th>housing</th>\n",
       "      <th>loan</th>\n",
       "      <th>contact</th>\n",
       "      <th>month</th>\n",
       "      <th>day_of_week</th>\n",
       "      <th>...</th>\n",
       "      <th>campaign</th>\n",
       "      <th>pdays</th>\n",
       "      <th>previous</th>\n",
       "      <th>poutcome</th>\n",
       "      <th>emp.var.rate</th>\n",
       "      <th>cons.price.idx</th>\n",
       "      <th>cons.conf.idx</th>\n",
       "      <th>euribor3m</th>\n",
       "      <th>nr.employed</th>\n",
       "      <th>y</th>\n",
       "    </tr>\n",
       "  </thead>\n",
       "  <tbody>\n",
       "    <tr>\n",
       "      <th>0</th>\n",
       "      <td>56</td>\n",
       "      <td>housemaid</td>\n",
       "      <td>married</td>\n",
       "      <td>basic.4y</td>\n",
       "      <td>no</td>\n",
       "      <td>no</td>\n",
       "      <td>no</td>\n",
       "      <td>telephone</td>\n",
       "      <td>may</td>\n",
       "      <td>mon</td>\n",
       "      <td>...</td>\n",
       "      <td>1</td>\n",
       "      <td>NaN</td>\n",
       "      <td>0</td>\n",
       "      <td>nonexistent</td>\n",
       "      <td>1.1</td>\n",
       "      <td>93.994</td>\n",
       "      <td>-36.4</td>\n",
       "      <td>4.857</td>\n",
       "      <td>5191</td>\n",
       "      <td>no</td>\n",
       "    </tr>\n",
       "    <tr>\n",
       "      <th>1</th>\n",
       "      <td>57</td>\n",
       "      <td>services</td>\n",
       "      <td>married</td>\n",
       "      <td>high.school</td>\n",
       "      <td>unknown</td>\n",
       "      <td>no</td>\n",
       "      <td>no</td>\n",
       "      <td>telephone</td>\n",
       "      <td>may</td>\n",
       "      <td>mon</td>\n",
       "      <td>...</td>\n",
       "      <td>1</td>\n",
       "      <td>999.0</td>\n",
       "      <td>0</td>\n",
       "      <td>nonexistent</td>\n",
       "      <td>1.1</td>\n",
       "      <td>93.994</td>\n",
       "      <td>-36.4</td>\n",
       "      <td>4.857</td>\n",
       "      <td>5191</td>\n",
       "      <td>no</td>\n",
       "    </tr>\n",
       "    <tr>\n",
       "      <th>2</th>\n",
       "      <td>37</td>\n",
       "      <td>services</td>\n",
       "      <td>married</td>\n",
       "      <td>high.school</td>\n",
       "      <td>no</td>\n",
       "      <td>yes</td>\n",
       "      <td>no</td>\n",
       "      <td>telephone</td>\n",
       "      <td>may</td>\n",
       "      <td>mon</td>\n",
       "      <td>...</td>\n",
       "      <td>1</td>\n",
       "      <td>999.0</td>\n",
       "      <td>0</td>\n",
       "      <td>nonexistent</td>\n",
       "      <td>1.1</td>\n",
       "      <td>93.994</td>\n",
       "      <td>-36.4</td>\n",
       "      <td>4.857</td>\n",
       "      <td>5191</td>\n",
       "      <td>no</td>\n",
       "    </tr>\n",
       "    <tr>\n",
       "      <th>3</th>\n",
       "      <td>40</td>\n",
       "      <td>admin.</td>\n",
       "      <td>married</td>\n",
       "      <td>basic.6y</td>\n",
       "      <td>no</td>\n",
       "      <td>no</td>\n",
       "      <td>no</td>\n",
       "      <td>telephone</td>\n",
       "      <td>may</td>\n",
       "      <td>mon</td>\n",
       "      <td>...</td>\n",
       "      <td>1</td>\n",
       "      <td>999.0</td>\n",
       "      <td>0</td>\n",
       "      <td>nonexistent</td>\n",
       "      <td>1.1</td>\n",
       "      <td>93.994</td>\n",
       "      <td>-36.4</td>\n",
       "      <td>4.857</td>\n",
       "      <td>5191</td>\n",
       "      <td>no</td>\n",
       "    </tr>\n",
       "    <tr>\n",
       "      <th>4</th>\n",
       "      <td>56</td>\n",
       "      <td>services</td>\n",
       "      <td>married</td>\n",
       "      <td>high.school</td>\n",
       "      <td>no</td>\n",
       "      <td>no</td>\n",
       "      <td>yes</td>\n",
       "      <td>telephone</td>\n",
       "      <td>may</td>\n",
       "      <td>mon</td>\n",
       "      <td>...</td>\n",
       "      <td>1</td>\n",
       "      <td>999.0</td>\n",
       "      <td>0</td>\n",
       "      <td>nonexistent</td>\n",
       "      <td>1.1</td>\n",
       "      <td>93.994</td>\n",
       "      <td>-36.4</td>\n",
       "      <td>4.857</td>\n",
       "      <td>5191</td>\n",
       "      <td>no</td>\n",
       "    </tr>\n",
       "  </tbody>\n",
       "</table>\n",
       "<p>5 rows × 21 columns</p>\n",
       "</div>"
      ],
      "text/plain": [
       "   age        job  marital    education  default housing loan    contact  \\\n",
       "0   56  housemaid  married     basic.4y       no      no   no  telephone   \n",
       "1   57   services  married  high.school  unknown      no   no  telephone   \n",
       "2   37   services  married  high.school       no     yes   no  telephone   \n",
       "3   40     admin.  married     basic.6y       no      no   no  telephone   \n",
       "4   56   services  married  high.school       no      no  yes  telephone   \n",
       "\n",
       "  month day_of_week  ...  campaign  pdays  previous     poutcome emp.var.rate  \\\n",
       "0   may         mon  ...         1    NaN         0  nonexistent          1.1   \n",
       "1   may         mon  ...         1  999.0         0  nonexistent          1.1   \n",
       "2   may         mon  ...         1  999.0         0  nonexistent          1.1   \n",
       "3   may         mon  ...         1  999.0         0  nonexistent          1.1   \n",
       "4   may         mon  ...         1  999.0         0  nonexistent          1.1   \n",
       "\n",
       "   cons.price.idx  cons.conf.idx  euribor3m  nr.employed   y  \n",
       "0          93.994          -36.4      4.857         5191  no  \n",
       "1          93.994          -36.4      4.857         5191  no  \n",
       "2          93.994          -36.4      4.857         5191  no  \n",
       "3          93.994          -36.4      4.857         5191  no  \n",
       "4          93.994          -36.4      4.857         5191  no  \n",
       "\n",
       "[5 rows x 21 columns]"
      ]
     },
     "execution_count": 130,
     "metadata": {},
     "output_type": "execute_result"
    }
   ],
   "source": [
    "bank_marketing = pd.read_csv(\"bank_marketing.csv\")\n",
    "bank_marketing.head()"
   ]
  },
  {
   "cell_type": "code",
   "execution_count": 131,
   "metadata": {},
   "outputs": [
    {
     "name": "stdout",
     "output_type": "stream",
     "text": [
      "no     36548\n",
      "yes     4640\n",
      "Name: y, dtype: int64\n"
     ]
    }
   ],
   "source": [
    "print(bank_marketing['y'].value_counts())"
   ]
  },
  {
   "cell_type": "markdown",
   "metadata": {},
   "source": [
    "#### Task 3\n",
    "##### Check for NA's `bank_marketing` and print the count of NA's in each column. If the missing value is from a integer type column, fill it with the mean value of the column.\n",
    "##### Now, print the count of NA's in each column.\n",
    "\n",
    "#### Result:"
   ]
  },
  {
   "cell_type": "code",
   "execution_count": 132,
   "metadata": {},
   "outputs": [
    {
     "name": "stdout",
     "output_type": "stream",
     "text": [
      "age               0\n",
      "job               0\n",
      "marital           0\n",
      "education         0\n",
      "default           0\n",
      "housing           0\n",
      "loan              0\n",
      "contact           0\n",
      "month             0\n",
      "day_of_week       0\n",
      "duration          0\n",
      "campaign          0\n",
      "pdays             1\n",
      "previous          0\n",
      "poutcome          0\n",
      "emp.var.rate      0\n",
      "cons.price.idx    0\n",
      "cons.conf.idx     0\n",
      "euribor3m         0\n",
      "nr.employed       0\n",
      "y                 0\n",
      "dtype: int64\n"
     ]
    }
   ],
   "source": [
    "print(bank_marketing.isnull().sum())"
   ]
  },
  {
   "cell_type": "code",
   "execution_count": 133,
   "metadata": {},
   "outputs": [],
   "source": [
    "bank_marketing = bank_marketing.fillna(bank_marketing.mean()['pdays'])"
   ]
  },
  {
   "cell_type": "code",
   "execution_count": 134,
   "metadata": {},
   "outputs": [
    {
     "name": "stdout",
     "output_type": "stream",
     "text": [
      "age               0\n",
      "job               0\n",
      "marital           0\n",
      "education         0\n",
      "default           0\n",
      "housing           0\n",
      "loan              0\n",
      "contact           0\n",
      "month             0\n",
      "day_of_week       0\n",
      "duration          0\n",
      "campaign          0\n",
      "pdays             0\n",
      "previous          0\n",
      "poutcome          0\n",
      "emp.var.rate      0\n",
      "cons.price.idx    0\n",
      "cons.conf.idx     0\n",
      "euribor3m         0\n",
      "nr.employed       0\n",
      "y                 0\n",
      "dtype: int64\n"
     ]
    }
   ],
   "source": [
    "print(bank_marketing.isnull().sum())"
   ]
  },
  {
   "cell_type": "markdown",
   "metadata": {},
   "source": [
    "#### Task 4\n",
    "##### Check the data types of the columns.\n",
    "##### Subset the dataset with only numeric columns and target variable and name it `bank_marketing_subset` .\n",
    "##### Once you ensure that all variables are numeric, transform the target variable `y` to boolean and check the data type again.\n",
    "##### Print the first few rows of `bank_marketing_subset_ex`.\n",
    "\n",
    "#### Result:"
   ]
  },
  {
   "cell_type": "code",
   "execution_count": 135,
   "metadata": {},
   "outputs": [
    {
     "data": {
      "text/plain": [
       "age                 int64\n",
       "job                object\n",
       "marital            object\n",
       "education          object\n",
       "default            object\n",
       "housing            object\n",
       "loan               object\n",
       "contact            object\n",
       "month              object\n",
       "day_of_week        object\n",
       "duration            int64\n",
       "campaign            int64\n",
       "pdays             float64\n",
       "previous            int64\n",
       "poutcome           object\n",
       "emp.var.rate      float64\n",
       "cons.price.idx    float64\n",
       "cons.conf.idx     float64\n",
       "euribor3m         float64\n",
       "nr.employed         int64\n",
       "y                  object\n",
       "dtype: object"
      ]
     },
     "execution_count": 135,
     "metadata": {},
     "output_type": "execute_result"
    }
   ],
   "source": [
    "bank_marketing.dtypes"
   ]
  },
  {
   "cell_type": "code",
   "execution_count": 136,
   "metadata": {},
   "outputs": [
    {
     "data": {
      "text/plain": [
       "age                 int64\n",
       "duration            int64\n",
       "campaign            int64\n",
       "pdays             float64\n",
       "previous            int64\n",
       "emp.var.rate      float64\n",
       "cons.price.idx    float64\n",
       "cons.conf.idx     float64\n",
       "euribor3m         float64\n",
       "nr.employed         int64\n",
       "y                  object\n",
       "dtype: object"
      ]
     },
     "execution_count": 136,
     "metadata": {},
     "output_type": "execute_result"
    }
   ],
   "source": [
    "bank_marketing_subset_ex = bank_marketing[[\"age\",\"duration\",\"campaign\",\"pdays\",\"previous\",\"emp.var.rate\",\"cons.price.idx\",\"cons.conf.idx\",\"euribor3m\",\"nr.employed\",\"y\"]]\n",
    "\n",
    "# Check for all numeric variables now.\n",
    "bank_marketing_subset_ex.dtypes"
   ]
  },
  {
   "cell_type": "code",
   "execution_count": 137,
   "metadata": {},
   "outputs": [
    {
     "name": "stderr",
     "output_type": "stream",
     "text": [
      "C:\\Users\\aashe\\Anaconda3\\lib\\site-packages\\ipykernel_launcher.py:1: SettingWithCopyWarning: \n",
      "A value is trying to be set on a copy of a slice from a DataFrame.\n",
      "Try using .loc[row_indexer,col_indexer] = value instead\n",
      "\n",
      "See the caveats in the documentation: https://pandas.pydata.org/pandas-docs/stable/user_guide/indexing.html#returning-a-view-versus-a-copy\n",
      "  \"\"\"Entry point for launching an IPython kernel.\n"
     ]
    },
    {
     "data": {
      "text/plain": [
       "dtype('bool')"
      ]
     },
     "execution_count": 137,
     "metadata": {},
     "output_type": "execute_result"
    }
   ],
   "source": [
    "bank_marketing_subset_ex[\"y\"] = np.where(bank_marketing_subset_ex[\"y\"] == \"yes\", True, False)\n",
    "\n",
    "# Check class again.\n",
    "bank_marketing_subset_ex['y'].dtypes"
   ]
  },
  {
   "cell_type": "code",
   "execution_count": 138,
   "metadata": {},
   "outputs": [
    {
     "data": {
      "text/html": [
       "<div>\n",
       "<style scoped>\n",
       "    .dataframe tbody tr th:only-of-type {\n",
       "        vertical-align: middle;\n",
       "    }\n",
       "\n",
       "    .dataframe tbody tr th {\n",
       "        vertical-align: top;\n",
       "    }\n",
       "\n",
       "    .dataframe thead th {\n",
       "        text-align: right;\n",
       "    }\n",
       "</style>\n",
       "<table border=\"1\" class=\"dataframe\">\n",
       "  <thead>\n",
       "    <tr style=\"text-align: right;\">\n",
       "      <th></th>\n",
       "      <th>age</th>\n",
       "      <th>duration</th>\n",
       "      <th>campaign</th>\n",
       "      <th>pdays</th>\n",
       "      <th>previous</th>\n",
       "      <th>emp.var.rate</th>\n",
       "      <th>cons.price.idx</th>\n",
       "      <th>cons.conf.idx</th>\n",
       "      <th>euribor3m</th>\n",
       "      <th>nr.employed</th>\n",
       "      <th>y</th>\n",
       "    </tr>\n",
       "  </thead>\n",
       "  <tbody>\n",
       "    <tr>\n",
       "      <th>0</th>\n",
       "      <td>56</td>\n",
       "      <td>261</td>\n",
       "      <td>1</td>\n",
       "      <td>962.474567</td>\n",
       "      <td>0</td>\n",
       "      <td>1.1</td>\n",
       "      <td>93.994</td>\n",
       "      <td>-36.4</td>\n",
       "      <td>4.857</td>\n",
       "      <td>5191</td>\n",
       "      <td>False</td>\n",
       "    </tr>\n",
       "    <tr>\n",
       "      <th>1</th>\n",
       "      <td>57</td>\n",
       "      <td>149</td>\n",
       "      <td>1</td>\n",
       "      <td>999.000000</td>\n",
       "      <td>0</td>\n",
       "      <td>1.1</td>\n",
       "      <td>93.994</td>\n",
       "      <td>-36.4</td>\n",
       "      <td>4.857</td>\n",
       "      <td>5191</td>\n",
       "      <td>False</td>\n",
       "    </tr>\n",
       "    <tr>\n",
       "      <th>2</th>\n",
       "      <td>37</td>\n",
       "      <td>226</td>\n",
       "      <td>1</td>\n",
       "      <td>999.000000</td>\n",
       "      <td>0</td>\n",
       "      <td>1.1</td>\n",
       "      <td>93.994</td>\n",
       "      <td>-36.4</td>\n",
       "      <td>4.857</td>\n",
       "      <td>5191</td>\n",
       "      <td>False</td>\n",
       "    </tr>\n",
       "    <tr>\n",
       "      <th>3</th>\n",
       "      <td>40</td>\n",
       "      <td>151</td>\n",
       "      <td>1</td>\n",
       "      <td>999.000000</td>\n",
       "      <td>0</td>\n",
       "      <td>1.1</td>\n",
       "      <td>93.994</td>\n",
       "      <td>-36.4</td>\n",
       "      <td>4.857</td>\n",
       "      <td>5191</td>\n",
       "      <td>False</td>\n",
       "    </tr>\n",
       "    <tr>\n",
       "      <th>4</th>\n",
       "      <td>56</td>\n",
       "      <td>307</td>\n",
       "      <td>1</td>\n",
       "      <td>999.000000</td>\n",
       "      <td>0</td>\n",
       "      <td>1.1</td>\n",
       "      <td>93.994</td>\n",
       "      <td>-36.4</td>\n",
       "      <td>4.857</td>\n",
       "      <td>5191</td>\n",
       "      <td>False</td>\n",
       "    </tr>\n",
       "  </tbody>\n",
       "</table>\n",
       "</div>"
      ],
      "text/plain": [
       "   age  duration  campaign       pdays  previous  emp.var.rate  \\\n",
       "0   56       261         1  962.474567         0           1.1   \n",
       "1   57       149         1  999.000000         0           1.1   \n",
       "2   37       226         1  999.000000         0           1.1   \n",
       "3   40       151         1  999.000000         0           1.1   \n",
       "4   56       307         1  999.000000         0           1.1   \n",
       "\n",
       "   cons.price.idx  cons.conf.idx  euribor3m  nr.employed      y  \n",
       "0          93.994          -36.4      4.857         5191  False  \n",
       "1          93.994          -36.4      4.857         5191  False  \n",
       "2          93.994          -36.4      4.857         5191  False  \n",
       "3          93.994          -36.4      4.857         5191  False  \n",
       "4          93.994          -36.4      4.857         5191  False  "
      ]
     },
     "execution_count": 138,
     "metadata": {},
     "output_type": "execute_result"
    }
   ],
   "source": [
    "bank_marketing_subset_ex.head()"
   ]
  },
  {
   "cell_type": "markdown",
   "metadata": {},
   "source": [
    "#### Task 5\n",
    "##### Select the predictors by dropping variable `y` and save the result to a dataframe `X_ex`.\n",
    "##### Save the target variable `y` column to `y_ex` variable.\n",
    "##### Set seed as 1.\n",
    "##### Split the data into train and test sets and save respective variables to `X_train_ex`, `X_test_ex`, `y_train_ex`, `y_test_ex`.\n",
    "\n",
    "#### Result:"
   ]
  },
  {
   "cell_type": "code",
   "execution_count": 139,
   "metadata": {},
   "outputs": [],
   "source": [
    "# Select the predictors and target.\n",
    "X_ex = bank_marketing_subset_ex.drop(['y'], axis = 1)\n",
    "y_ex = np.array(bank_marketing_subset_ex['y'])\n",
    "\n",
    "# Set the seed to 1.\n",
    "np.random.seed(1)\n",
    "\n",
    "# Split into training and test sets.\n",
    "X_train_ex, X_test_ex, y_train_ex, y_test_ex = train_test_split(X_ex, y_ex, test_size = 0.3)"
   ]
  },
  {
   "cell_type": "markdown",
   "metadata": {},
   "source": [
    "#### Task 6\n",
    "##### Instantiate the logistic regression model and save it to `ex_logistic_regression_model`. Print it.\n",
    "##### Fit the model with our training sets `X_train_ex` and `y_train_ex`.\n",
    "##### Note: If you encounter any warning, use the code below to set up the logistic regression model.\n",
    "##### logistic_regression_model_ex = linear_model.LogisticRegression(solver='lbfgs')\n",
    "\n",
    "#### Result:"
   ]
  },
  {
   "cell_type": "code",
   "execution_count": 140,
   "metadata": {},
   "outputs": [
    {
     "name": "stdout",
     "output_type": "stream",
     "text": [
      "LogisticRegression(C=1.0, class_weight=None, dual=False, fit_intercept=True,\n",
      "                   intercept_scaling=1, l1_ratio=None, max_iter=100,\n",
      "                   multi_class='warn', n_jobs=None, penalty='l2',\n",
      "                   random_state=None, solver='warn', tol=0.0001, verbose=0,\n",
      "                   warm_start=False)\n"
     ]
    }
   ],
   "source": [
    "# Set up logistic regression model.\n",
    "logistic_regression_model_ex = linear_model.LogisticRegression()\n",
    "print(logistic_regression_model_ex)\n"
   ]
  },
  {
   "cell_type": "markdown",
   "metadata": {},
   "source": [
    "- Notice the default `C` value and `penalty`."
   ]
  },
  {
   "cell_type": "code",
   "execution_count": 141,
   "metadata": {},
   "outputs": [
    {
     "data": {
      "text/plain": [
       "LogisticRegression(C=1.0, class_weight=None, dual=False, fit_intercept=True,\n",
       "                   intercept_scaling=1, l1_ratio=None, max_iter=100,\n",
       "                   multi_class='warn', n_jobs=None, penalty='l2',\n",
       "                   random_state=None, solver='warn', tol=0.0001, verbose=0,\n",
       "                   warm_start=False)"
      ]
     },
     "execution_count": 141,
     "metadata": {},
     "output_type": "execute_result"
    }
   ],
   "source": [
    "# Fit the model.\n",
    "logistic_regression_model_ex.fit(X_train_ex, \n",
    "                                 y_train_ex)"
   ]
  },
  {
   "cell_type": "markdown",
   "metadata": {},
   "source": [
    "#### Task 7\n",
    "##### Now use the trained model to predict on our test set `X_test_ex`. Save as `predicted_values_ex`.\n",
    "##### Print the vector of predictions obtained.\n",
    "\n",
    "#### Result:"
   ]
  },
  {
   "cell_type": "code",
   "execution_count": 142,
   "metadata": {},
   "outputs": [
    {
     "name": "stdout",
     "output_type": "stream",
     "text": [
      "[False False False ... False False False]\n"
     ]
    }
   ],
   "source": [
    "# Predict on test data.\n",
    "predicted_values_ex = logistic_regression_model_ex.predict(X_test_ex)\n",
    "print(predicted_values_ex)"
   ]
  },
  {
   "cell_type": "markdown",
   "metadata": {},
   "source": [
    "## Exercise 2"
   ]
  },
  {
   "cell_type": "markdown",
   "metadata": {},
   "source": [
    "#### Task 1\n",
    "##### Create a confusion matrix using the `metrics.confusion_matrix()` function.\n",
    "##### Save as `conf_matrix_ex` and print.\n",
    "##### What can you determine by looking at the confusion matrix?\n",
    "\n",
    "#### Result:"
   ]
  },
  {
   "cell_type": "code",
   "execution_count": 143,
   "metadata": {},
   "outputs": [
    {
     "name": "stdout",
     "output_type": "stream",
     "text": [
      "[[10662   282]\n",
      " [  864   549]]\n"
     ]
    }
   ],
   "source": [
    "conf_matrix_ex = metrics.confusion_matrix(y_test_ex, predicted_values_ex)\n",
    "print(conf_matrix_ex)"
   ]
  },
  {
   "cell_type": "markdown",
   "metadata": {},
   "source": [
    "- We see that the model has performed well in predicting correctly. We can expect a high accuracy."
   ]
  },
  {
   "cell_type": "markdown",
   "metadata": {},
   "source": [
    "#### Task 2\n",
    "##### Calculate the accuracy of our model by comparing our predicted values against our test set `y_test_ex`.\n",
    "##### Save as `test_accuracy_ex` and print.\n",
    "\n",
    "#### Result:"
   ]
  },
  {
   "cell_type": "code",
   "execution_count": 144,
   "metadata": {},
   "outputs": [
    {
     "name": "stdout",
     "output_type": "stream",
     "text": [
      "Accuracy on test data:  0.9072590434571498\n"
     ]
    }
   ],
   "source": [
    "test_accuracy_ex = metrics.accuracy_score(y_test_ex, predicted_values_ex)\n",
    "print(\"Accuracy on test data: \", test_accuracy_ex)"
   ]
  },
  {
   "cell_type": "markdown",
   "metadata": {},
   "source": [
    "#### Task 3\n",
    "##### Create a list named `target_names` with the class names, `no` and `yes`.\n",
    "##### Create a report `class_report_ex` using our test values `y_test_ex` and predicted values `predicted_values_ex` with the following columns:\n",
    "- precision\n",
    "- recall\n",
    "- f1-score\n",
    "- target_names\n",
    "\n",
    "#### Result:"
   ]
  },
  {
   "cell_type": "code",
   "execution_count": 145,
   "metadata": {},
   "outputs": [],
   "source": [
    "# Create a list of target names to interpret class assignments.\n",
    "target_names = ['no', 'yes']"
   ]
  },
  {
   "cell_type": "code",
   "execution_count": 146,
   "metadata": {},
   "outputs": [
    {
     "name": "stdout",
     "output_type": "stream",
     "text": [
      "              precision    recall  f1-score   support\n",
      "\n",
      "          no       0.93      0.97      0.95     10944\n",
      "         yes       0.66      0.39      0.49      1413\n",
      "\n",
      "    accuracy                           0.91     12357\n",
      "   macro avg       0.79      0.68      0.72     12357\n",
      "weighted avg       0.89      0.91      0.90     12357\n",
      "\n"
     ]
    }
   ],
   "source": [
    "# Print an entire classification report.\n",
    "class_report_ex = metrics.classification_report(y_test_ex, \n",
    "                                             predicted_values_ex, \n",
    "                                             target_names = target_names)\n",
    "print(class_report_ex)"
   ]
  },
  {
   "cell_type": "markdown",
   "metadata": {},
   "source": [
    "#### Task 4\n",
    "##### Create a dataframe to store the accuracy and the model used. Name the dataframe as `model_final_ex`.\n",
    "##### Pickle the dataframe to the file `model_final_ex`.\n",
    "\n",
    "#### Result:"
   ]
  },
  {
   "cell_type": "code",
   "execution_count": 147,
   "metadata": {},
   "outputs": [
    {
     "name": "stdout",
     "output_type": "stream",
     "text": [
      "    metrics  values     model\n",
      "0  accuracy  0.9073  logistic\n"
     ]
    }
   ],
   "source": [
    "# Create a dictionary with accuracy values for our knn model with k = 5.\n",
    "model_final_dict = {'metrics': [\"accuracy\"],\n",
    "                    'values':[round(test_accuracy_ex, 4)],\n",
    "                    'model':['logistic']}\n",
    "\n",
    "model_final_ex = pd.DataFrame(data = model_final_dict)\n",
    "print(model_final_ex)"
   ]
  },
  {
   "cell_type": "code",
   "execution_count": 148,
   "metadata": {},
   "outputs": [],
   "source": [
    "pickle.dump(model_final_ex, open(\"model_final_ex.sav\",\"wb\" ))"
   ]
  },
  {
   "cell_type": "markdown",
   "metadata": {},
   "source": [
    "#### Task 5\n",
    "##### Get the probabilities of predicted values `X_test_ex` and save as `test_probabilities_ex`.\n",
    "##### Then, calculate the probabilities of test predictions only.\n",
    "\n",
    "#### Result:"
   ]
  },
  {
   "cell_type": "code",
   "execution_count": 149,
   "metadata": {},
   "outputs": [
    {
     "name": "stdout",
     "output_type": "stream",
     "text": [
      "[[0.93620735 0.06379265]\n",
      " [0.99143647 0.00856353]\n",
      " [0.92107917 0.07892083]\n",
      " [0.95080845 0.04919155]\n",
      " [0.99123398 0.00876602]]\n"
     ]
    }
   ],
   "source": [
    "# Get probabilities instead of predicted values.\n",
    "test_probabilities_ex = logistic_regression_model_ex.predict_proba(X_test_ex)\n",
    "print(test_probabilities_ex[0:5, :])"
   ]
  },
  {
   "cell_type": "code",
   "execution_count": 150,
   "metadata": {},
   "outputs": [
    {
     "name": "stdout",
     "output_type": "stream",
     "text": [
      "[0.06379265 0.00856353 0.07892083 0.04919155 0.00876602]\n"
     ]
    }
   ],
   "source": [
    "# Get probabilities of test predictions only.\n",
    "test_predictions = test_probabilities_ex[:, 1]\n",
    "print(test_predictions[0:5])"
   ]
  },
  {
   "cell_type": "markdown",
   "metadata": {},
   "source": [
    "#### Task 6\n",
    "##### Derive the `fpr`, `tpr`, and the `threshold` using our test set and predictions.\n",
    "##### Then, calculate the `auc` using the derived `fpr` and `tpr`.\n",
    "\n",
    "#### Result:"
   ]
  },
  {
   "cell_type": "code",
   "execution_count": 151,
   "metadata": {},
   "outputs": [],
   "source": [
    "# Get FPR, TPR, and threshold values.\n",
    "fpr, tpr, threshold = metrics.roc_curve(y_test_ex,         #<- test data labels\n",
    "                                        test_predictions)  #<- predicted probabilities"
   ]
  },
  {
   "cell_type": "code",
   "execution_count": 152,
   "metadata": {},
   "outputs": [
    {
     "name": "stdout",
     "output_type": "stream",
     "text": [
      "Area under the ROC curve:  0.921285949599169\n"
     ]
    }
   ],
   "source": [
    "# Get AUC by providing the FPR and TPR.\n",
    "auc = metrics.auc(fpr, tpr)\n",
    "print(\"Area under the ROC curve: \", auc)"
   ]
  },
  {
   "cell_type": "markdown",
   "metadata": {},
   "source": [
    "#### Task 7\n",
    "##### Plot ROC curve plot using the values derived above.\n",
    "\n",
    "##### Result:"
   ]
  },
  {
   "cell_type": "code",
   "execution_count": 153,
   "metadata": {},
   "outputs": [
    {
     "data": {
      "image/png": "[encoded data removed]",
      "text/plain": [
       "<Figure size 432x288 with 1 Axes>"
      ]
     },
     "metadata": {
      "needs_background": "light"
     },
     "output_type": "display_data"
    }
   ],
   "source": [
    "# Make a ROC curve plot.\n",
    "plt.title('Receiver Operator Characteristic')\n",
    "plt.plot(fpr, tpr, 'b', label = 'AUC = %0.2f' % auc)\n",
    "plt.legend(loc = 'lower right')\n",
    "plt.plot([0, 1], [0, 1],'r--')\n",
    "plt.xlabel('False Positive Rate')\n",
    "plt.ylabel('True Positive Rate')\n",
    "plt.show()"
   ]
  },
  {
   "cell_type": "markdown",
   "metadata": {},
   "source": [
    "## Exercise 3"
   ]
  },
  {
   "cell_type": "markdown",
   "metadata": {},
   "source": [
    "#### Task 1\n",
    "##### Use the dataframe `bank_marketing` and print the datatypes of all the columns. Convert all the categorical columns to dummy variables.\n",
    "##### The datatype of target variable needs to be binary. Check for the datatype of the target variable and convert it to binary.\n",
    "\n",
    "#### Result:"
   ]
  },
  {
   "cell_type": "code",
   "execution_count": 154,
   "metadata": {},
   "outputs": [
    {
     "data": {
      "text/plain": [
       "age                 int64\n",
       "job                object\n",
       "marital            object\n",
       "education          object\n",
       "default            object\n",
       "housing            object\n",
       "loan               object\n",
       "contact            object\n",
       "month              object\n",
       "day_of_week        object\n",
       "duration            int64\n",
       "campaign            int64\n",
       "pdays             float64\n",
       "previous            int64\n",
       "poutcome           object\n",
       "emp.var.rate      float64\n",
       "cons.price.idx    float64\n",
       "cons.conf.idx     float64\n",
       "euribor3m         float64\n",
       "nr.employed         int64\n",
       "y                  object\n",
       "dtype: object"
      ]
     },
     "execution_count": 154,
     "metadata": {},
     "output_type": "execute_result"
    }
   ],
   "source": [
    "bank_marketing.dtypes"
   ]
  },
  {
   "cell_type": "code",
   "execution_count": 155,
   "metadata": {},
   "outputs": [],
   "source": [
    "bank_marketing = pd.get_dummies(bank_marketing, columns=['job', 'marital','education','default','housing','loan','contact','month','day_of_week','poutcome'])"
   ]
  },
  {
   "cell_type": "code",
   "execution_count": 156,
   "metadata": {},
   "outputs": [
    {
     "name": "stdout",
     "output_type": "stream",
     "text": [
      "bool\n"
     ]
    }
   ],
   "source": [
    "bank_marketing[\"y\"] = np.where(bank_marketing[\"y\"] == \"yes\", True, False)\n",
    "\n",
    "# Check class again.\n",
    "print(bank_marketing.y.dtypes)"
   ]
  },
  {
   "cell_type": "markdown",
   "metadata": {},
   "source": [
    "#### Task 2\n",
    "##### As we did before, split the dataset into predictors `ex_X` and target `ex_y`.\n",
    "##### Save target variable `y` as an np array to `ex_y`.\n",
    "##### Save the rest of the variables to `ex_X`.\n",
    "\n",
    "#### Result:"
   ]
  },
  {
   "cell_type": "code",
   "execution_count": 157,
   "metadata": {
    "ExecuteTime": {
     "end_time": "2020-06-22T14:51:54.131216Z",
     "start_time": "2020-06-22T14:51:54.121533Z"
    }
   },
   "outputs": [],
   "source": [
    "# We can drop just the target variable, as we are using all other variables as predictors.\n",
    "ex_X = bank_marketing.drop('y', axis = 1)\n",
    "ex_y = np.array(bank_marketing['y'])"
   ]
  },
  {
   "cell_type": "markdown",
   "metadata": {},
   "source": [
    "#### Task 3\n",
    "##### Split our data `ex_X` and `ex_y` into training and test sets. Split 70% into the training set and remaining 30% into the test set.\n",
    "##### Save them as `ex_X_train`, `ex_X_test`, `ex_y_train` and `ex_y_test` respectively.\n",
    "##### Make sure to set the seed to 2 so you can replicate the results.\n",
    "\n",
    "#### Result:"
   ]
  },
  {
   "cell_type": "code",
   "execution_count": 158,
   "metadata": {
    "ExecuteTime": {
     "end_time": "2020-06-22T14:51:54.817611Z",
     "start_time": "2020-06-22T14:51:54.809016Z"
    }
   },
   "outputs": [],
   "source": [
    "# Set the seed.\n",
    "np.random.seed(2)\n",
    "# Split into training and test sets.\n",
    "ex_X_train, ex_X_test, ex_y_train, ex_y_test = train_test_split(ex_X, \n",
    "                                                                ex_y, \n",
    "                                                                test_size=0.3) "
   ]
  },
  {
   "cell_type": "markdown",
   "metadata": {},
   "source": [
    "#### Task 4\n",
    "##### Instantiate the logistic regression model and save it to `ex_logistic_regression_model`. Print it.\n",
    "##### Fit the model with our training sets `ex_X_train` and `ex_y_train`.\n",
    "\n",
    "#### Result:"
   ]
  },
  {
   "cell_type": "code",
   "execution_count": 159,
   "metadata": {
    "ExecuteTime": {
     "end_time": "2020-06-22T14:51:55.246385Z",
     "start_time": "2020-06-22T14:51:55.238584Z"
    }
   },
   "outputs": [
    {
     "name": "stdout",
     "output_type": "stream",
     "text": [
      "LogisticRegression(C=1.0, class_weight=None, dual=False, fit_intercept=True,\n",
      "                   intercept_scaling=1, l1_ratio=None, max_iter=100,\n",
      "                   multi_class='warn', n_jobs=None, penalty='l2',\n",
      "                   random_state=None, solver='liblinear', tol=0.0001, verbose=0,\n",
      "                   warm_start=False)\n"
     ]
    }
   ],
   "source": [
    "# Set up logistic regression model.\n",
    "ex_logistic_regression_model = linear_model.LogisticRegression(solver='liblinear')\n",
    "print(ex_logistic_regression_model)"
   ]
  },
  {
   "cell_type": "code",
   "execution_count": 160,
   "metadata": {
    "ExecuteTime": {
     "end_time": "2020-06-22T14:51:55.436128Z",
     "start_time": "2020-06-22T14:51:55.422465Z"
    }
   },
   "outputs": [
    {
     "data": {
      "text/plain": [
       "LogisticRegression(C=1.0, class_weight=None, dual=False, fit_intercept=True,\n",
       "                   intercept_scaling=1, l1_ratio=None, max_iter=100,\n",
       "                   multi_class='warn', n_jobs=None, penalty='l2',\n",
       "                   random_state=None, solver='liblinear', tol=0.0001, verbose=0,\n",
       "                   warm_start=False)"
      ]
     },
     "execution_count": 160,
     "metadata": {},
     "output_type": "execute_result"
    }
   ],
   "source": [
    "# Fit the model.\n",
    "ex_logistic_regression_model.fit(ex_X_train, \n",
    "                                 ex_y_train)"
   ]
  },
  {
   "cell_type": "markdown",
   "metadata": {},
   "source": [
    "#### Task 5\n",
    "##### Now use the trained model to predict on our test set `ex_X_test`. Save as `ex_predicted_values`.\n",
    "##### Print the vector of predictions obtained.\n",
    "##### Create a confusion matrix using the `metrics.confusion_matrix()` function.\n",
    "##### Save as `ex_conf_matrix` and print.\n",
    "##### Calculate the accuracy of our model by comparing our predicted values against our test set `ex_y_test`.\n",
    "\n",
    "#### Result:"
   ]
  },
  {
   "cell_type": "code",
   "execution_count": 161,
   "metadata": {
    "ExecuteTime": {
     "end_time": "2020-06-22T14:51:55.942838Z",
     "start_time": "2020-06-22T14:51:55.935216Z"
    }
   },
   "outputs": [
    {
     "name": "stdout",
     "output_type": "stream",
     "text": [
      "[False False False ... False False False]\n"
     ]
    }
   ],
   "source": [
    "# Predict on test data.\n",
    "ex_predicted_values = ex_logistic_regression_model.predict(ex_X_test)\n",
    "print(ex_predicted_values)"
   ]
  },
  {
   "cell_type": "code",
   "execution_count": 162,
   "metadata": {
    "ExecuteTime": {
     "end_time": "2020-06-22T14:51:56.804240Z",
     "start_time": "2020-06-22T14:51:56.784585Z"
    }
   },
   "outputs": [
    {
     "name": "stdout",
     "output_type": "stream",
     "text": [
      "[[10672   282]\n",
      " [  849   554]]\n"
     ]
    }
   ],
   "source": [
    "ex_conf_matrix = metrics.confusion_matrix(ex_y_test, ex_predicted_values)\n",
    "print(ex_conf_matrix)"
   ]
  },
  {
   "cell_type": "code",
   "execution_count": 163,
   "metadata": {
    "ExecuteTime": {
     "end_time": "2020-06-22T14:51:57.728544Z",
     "start_time": "2020-06-22T14:51:57.713547Z"
    }
   },
   "outputs": [
    {
     "name": "stdout",
     "output_type": "stream",
     "text": [
      "Accuracy on test data:  0.9084729303228939\n"
     ]
    }
   ],
   "source": [
    "# Compute test model accuracy score.\n",
    "ex_test_accuracy = metrics.accuracy_score(ex_y_test, ex_predicted_values)\n",
    "print(\"Accuracy on test data: \", ex_test_accuracy)"
   ]
  },
  {
   "cell_type": "markdown",
   "metadata": {},
   "source": [
    "#### Task 6\n",
    "\n",
    "##### Load the pickled dataset `model_final_ex.sav` which we saved earlier.\n",
    "\n",
    "##### Add the accuracy score `ex_test_accuracy` calculated above with the model name as `logistic_withdummies` to the dataframe `ex_model_final` which we created earlier and view the output.\n",
    "\n",
    "#### Result:"
   ]
  },
  {
   "cell_type": "code",
   "execution_count": 164,
   "metadata": {
    "ExecuteTime": {
     "end_time": "2020-06-22T14:51:58.735877Z",
     "start_time": "2020-06-22T14:51:58.708933Z"
    }
   },
   "outputs": [
    {
     "name": "stdout",
     "output_type": "stream",
     "text": [
      "    metrics  values                 model\n",
      "0  accuracy  0.9073              logistic\n",
      "1  accuracy  0.9085  logistic_withdummies\n"
     ]
    }
   ],
   "source": [
    "model_final_ex = pickle.load(open(\"model_final_ex.sav\",\"rb\"))\n",
    "\n",
    "model_final_ex = model_final_ex.append({'metrics' : \"accuracy\" , \n",
    "                                  'values' : round(ex_test_accuracy,4),\n",
    "                                  'model':'logistic_withdummies' } , \n",
    "                                  ignore_index=True)\n",
    "print(model_final_ex)"
   ]
  },
  {
   "cell_type": "markdown",
   "metadata": {},
   "source": [
    "#### Task 7\n",
    "##### Create a list named `target_names` with the class names as `no` and `yes`.\n",
    "##### Create a report `ex_class_report` using our test values `ex_y_test` and predicted values `ex_predicted_values` with the following columns:\n",
    "- precision\n",
    "- recall\n",
    "- f1-score\n",
    "- target_names\n",
    "\n",
    "#### Result:"
   ]
  },
  {
   "cell_type": "code",
   "execution_count": 165,
   "metadata": {
    "ExecuteTime": {
     "end_time": "2020-06-22T14:51:59.438911Z",
     "start_time": "2020-06-22T14:51:59.434691Z"
    }
   },
   "outputs": [],
   "source": [
    "# Create a list of target names to interpret class assignments.\n",
    "target_names = ['no', 'yes']"
   ]
  },
  {
   "cell_type": "code",
   "execution_count": 166,
   "metadata": {
    "ExecuteTime": {
     "end_time": "2020-06-22T14:51:59.872492Z",
     "start_time": "2020-06-22T14:51:59.853527Z"
    }
   },
   "outputs": [
    {
     "name": "stdout",
     "output_type": "stream",
     "text": [
      "              precision    recall  f1-score   support\n",
      "\n",
      "          no       0.93      0.97      0.95     10954\n",
      "         yes       0.66      0.39      0.49      1403\n",
      "\n",
      "    accuracy                           0.91     12357\n",
      "   macro avg       0.79      0.68      0.72     12357\n",
      "weighted avg       0.90      0.91      0.90     12357\n",
      "\n"
     ]
    }
   ],
   "source": [
    "# Print an entire classification report.\n",
    "class_report = metrics.classification_report(ex_y_test, \n",
    "                                             ex_predicted_values, \n",
    "                                             target_names = target_names)\n",
    "print(class_report)"
   ]
  },
  {
   "cell_type": "markdown",
   "metadata": {},
   "source": [
    "#### Task 8\n",
    "##### Get the probabilities of predicted values `ex_X_test` and save as `ex_test_probabilities`.\n",
    "##### Then calculate the probabilities of test predictions named `ex_test_predictions`  only. \n",
    "\n",
    "#### Result:"
   ]
  },
  {
   "cell_type": "code",
   "execution_count": 167,
   "metadata": {
    "ExecuteTime": {
     "end_time": "2020-06-22T14:52:00.516362Z",
     "start_time": "2020-06-22T14:52:00.505417Z"
    }
   },
   "outputs": [
    {
     "name": "stdout",
     "output_type": "stream",
     "text": [
      "[[0.98814423 0.01185577]\n",
      " [0.99028194 0.00971806]\n",
      " [0.7302287  0.2697713 ]\n",
      " [0.99279934 0.00720066]\n",
      " [0.99103496 0.00896504]]\n"
     ]
    }
   ],
   "source": [
    "# Get probabilities instead of predicted values.\n",
    "ex_test_probabilities = ex_logistic_regression_model.predict_proba(ex_X_test)\n",
    "print(ex_test_probabilities[0:5, :])"
   ]
  },
  {
   "cell_type": "code",
   "execution_count": 168,
   "metadata": {
    "ExecuteTime": {
     "end_time": "2020-06-22T14:52:00.749312Z",
     "start_time": "2020-06-22T14:52:00.739551Z"
    }
   },
   "outputs": [
    {
     "name": "stdout",
     "output_type": "stream",
     "text": [
      "[0.01185577 0.00971806 0.2697713  0.00720066 0.00896504]\n"
     ]
    }
   ],
   "source": [
    "# Get probabilities of test predictions only.\n",
    "ex_test_predictions = ex_test_probabilities[:, 1]\n",
    "print(ex_test_predictions[0:5])"
   ]
  },
  {
   "cell_type": "markdown",
   "metadata": {},
   "source": [
    "#### Task 9\n",
    "##### Derive the `fpr`, `tpr`, and the `threshold` using our test set and predictions.\n",
    "##### Then calculate the `auc` using the derived `fpr` and `tpr`.\n",
    "\n",
    "#### Result:"
   ]
  },
  {
   "cell_type": "code",
   "execution_count": 169,
   "metadata": {
    "ExecuteTime": {
     "end_time": "2020-06-22T14:52:01.472042Z",
     "start_time": "2020-06-22T14:52:01.462798Z"
    }
   },
   "outputs": [],
   "source": [
    "# Get FPR, TPR, and threshold values.\n",
    "fpr, tpr, threshold = metrics.roc_curve(ex_y_test,            #<- test data labels\n",
    "                                        ex_test_predictions)  #<- predicted probabilities"
   ]
  },
  {
   "cell_type": "code",
   "execution_count": 170,
   "metadata": {
    "ExecuteTime": {
     "end_time": "2020-06-22T14:52:01.760398Z",
     "start_time": "2020-06-22T14:52:01.752047Z"
    }
   },
   "outputs": [
    {
     "name": "stdout",
     "output_type": "stream",
     "text": [
      "Area under the ROC curve:  0.9249883299968468\n"
     ]
    }
   ],
   "source": [
    "# Get AUC by providing the FPR and TPR.\n",
    "auc = metrics.auc(fpr, tpr)\n",
    "print(\"Area under the ROC curve: \", auc)"
   ]
  },
  {
   "cell_type": "markdown",
   "metadata": {},
   "source": [
    "#### Task 10\n",
    "##### Plot and ROC curve plot using the values derived above.\n",
    "\n",
    "#### Result:"
   ]
  },
  {
   "cell_type": "code",
   "execution_count": 171,
   "metadata": {
    "ExecuteTime": {
     "end_time": "2020-06-22T14:52:03.260749Z",
     "start_time": "2020-06-22T14:52:02.521823Z"
    }
   },
   "outputs": [
    {
     "data": {
      "image/png": "[encoded data removed]",
      "text/plain": [
       "<Figure size 432x288 with 1 Axes>"
      ]
     },
     "metadata": {
      "needs_background": "light"
     },
     "output_type": "display_data"
    }
   ],
   "source": [
    "# Make an ROC curve plot.\n",
    "plt.title('Receiver Operator Characteristic')\n",
    "plt.plot(fpr, tpr, 'b', label = 'AUC = %0.2f' % auc)\n",
    "plt.legend(loc = 'lower right')\n",
    "plt.plot([0, 1], [0, 1],'r--')\n",
    "plt.xlabel('False Positive Rate')\n",
    "plt.ylabel('True Positive Rate')\n",
    "plt.show()"
   ]
  },
  {
   "cell_type": "markdown",
   "metadata": {},
   "source": [
    "## Exercise 4"
   ]
  },
  {
   "cell_type": "markdown",
   "metadata": {},
   "source": [
    "#### Task 1\n",
    "##### Create regularization penalty space named `penalty` and regularization constant space `C` as in slides.\n",
    "##### Then create the hyperparameter dictionary named `hyperparameters`.\n",
    "\n",
    "#### Result:"
   ]
  },
  {
   "cell_type": "code",
   "execution_count": 172,
   "metadata": {
    "ExecuteTime": {
     "end_time": "2020-06-22T14:52:03.619065Z",
     "start_time": "2020-06-22T14:52:03.606423Z"
    }
   },
   "outputs": [
    {
     "name": "stdout",
     "output_type": "stream",
     "text": [
      "Regularization constant:  [1.00000000e+00 1.29154967e+01 1.66810054e+02 2.15443469e+03\n",
      " 2.78255940e+04 3.59381366e+05 4.64158883e+06 5.99484250e+07\n",
      " 7.74263683e+08 1.00000000e+10]\n"
     ]
    }
   ],
   "source": [
    "# Create regularization penalty space.\n",
    "penalty = ['l1', 'l2']\n",
    "# Create regularization constant space.\n",
    "C = np.logspace(0, 10, 10)\n",
    "print(\"Regularization constant: \", C)"
   ]
  },
  {
   "cell_type": "code",
   "execution_count": 173,
   "metadata": {
    "ExecuteTime": {
     "end_time": "2020-06-22T14:52:04.124396Z",
     "start_time": "2020-06-22T14:52:04.114493Z"
    }
   },
   "outputs": [
    {
     "name": "stdout",
     "output_type": "stream",
     "text": [
      "{'C': array([1.00000000e+00, 1.29154967e+01, 1.66810054e+02, 2.15443469e+03,\n",
      "       2.78255940e+04, 3.59381366e+05, 4.64158883e+06, 5.99484250e+07,\n",
      "       7.74263683e+08, 1.00000000e+10]), 'penalty': ['l1', 'l2']}\n"
     ]
    }
   ],
   "source": [
    "# Create hyperparameter options dictionary.\n",
    "hyperparameters = dict(C = C, penalty = penalty)\n",
    "print(hyperparameters)"
   ]
  },
  {
   "cell_type": "markdown",
   "metadata": {},
   "source": [
    "#### Task 2\n",
    "##### Set up the 5-fold cross-validation function named `ex_clf`  with the parameters created above.\n",
    "##### Fit the function with our training set. Save as `ex_best_model`.\n",
    "##### Note: If you encounter a convergence warning, use the below code\n",
    "##### ex_clf = GridSearchCV(linear_model.LogisticRegression(solver='liblinear', max_iter=2500), hyperparameters, cv = 5, verbose = 0,                  iid='deprecated')\n",
    "\n",
    "#### Result:"
   ]
  },
  {
   "cell_type": "code",
   "execution_count": 174,
   "metadata": {
    "ExecuteTime": {
     "end_time": "2020-06-22T14:52:05.627723Z",
     "start_time": "2020-06-22T14:52:05.619047Z"
    }
   },
   "outputs": [],
   "source": [
    "# Grid search 5-fold cross-validation with above parameters.\n",
    "ex_clf = GridSearchCV(linear_model.LogisticRegression(solver='liblinear'), #<- function to optimize\n",
    "                   hyperparameters,                   #<- grid search parameters\n",
    "                   cv = 5,                            #<- 5-fold cv\n",
    "                   verbose = 0)                      #<- no messages to show\n",
    "\n"
   ]
  },
  {
   "cell_type": "code",
   "execution_count": null,
   "metadata": {
    "ExecuteTime": {
     "end_time": "2020-06-22T14:52:07.561217Z",
     "start_time": "2020-06-22T14:52:06.009071Z"
    },
    "scrolled": true
   },
   "outputs": [],
   "source": [
    "# Fit CV grid search.\n",
    "ex_best_model = ex_clf.fit(ex_X_train, ex_y_train)\n",
    "ex_best_model"
   ]
  },
  {
   "cell_type": "markdown",
   "metadata": {},
   "source": [
    "#### Task 3\n",
    "##### Derive the best penalty and constant parameters. Print them.\n",
    "\n",
    "#### Result:"
   ]
  },
  {
   "cell_type": "code",
   "execution_count": 77,
   "metadata": {
    "ExecuteTime": {
     "end_time": "2020-06-22T14:52:07.597260Z",
     "start_time": "2020-06-22T14:52:07.581013Z"
    }
   },
   "outputs": [
    {
     "name": "stdout",
     "output_type": "stream",
     "text": [
      "Best penalty:  l2\n",
      "Best C:  166.81005372000593\n"
     ]
    }
   ],
   "source": [
    "# Get best penalty and constant parameters.\n",
    "penalty = ex_best_model.best_estimator_.get_params()['penalty']\n",
    "constant = ex_best_model.best_estimator_.get_params()['C']\n",
    "print('Best penalty: ', penalty)\n",
    "print('Best C: ', constant)"
   ]
  },
  {
   "cell_type": "markdown",
   "metadata": {},
   "source": [
    "#### Task 4\n",
    "##### Print the vector of predicted values named `ex_best_predicted_values`.\n",
    "##### Also find the accuracy score `ex_best_accuracy_score` and print.\n",
    "\n",
    "#### Result:"
   ]
  },
  {
   "cell_type": "code",
   "execution_count": 78,
   "metadata": {
    "ExecuteTime": {
     "end_time": "2020-06-22T14:52:08.737991Z",
     "start_time": "2020-06-22T14:52:08.718868Z"
    }
   },
   "outputs": [
    {
     "name": "stdout",
     "output_type": "stream",
     "text": [
      "[False False False ... False False False]\n"
     ]
    }
   ],
   "source": [
    "# Predict on test data using best model.\n",
    "ex_best_predicted_values = ex_best_model.predict(ex_X_test)\n",
    "print(ex_best_predicted_values)"
   ]
  },
  {
   "cell_type": "code",
   "execution_count": 79,
   "metadata": {
    "ExecuteTime": {
     "end_time": "2020-06-22T14:52:09.208869Z",
     "start_time": "2020-06-22T14:52:09.198290Z"
    }
   },
   "outputs": [
    {
     "name": "stdout",
     "output_type": "stream",
     "text": [
      "Accuracy on test data (best model):  0.9084729303228939\n"
     ]
    }
   ],
   "source": [
    "# Compute best model accuracy score.\n",
    "ex_best_accuracy_score = metrics.accuracy_score(ex_y_test, ex_best_predicted_values)\n",
    "print(\"Accuracy on test data (best model): \", ex_best_accuracy_score)"
   ]
  },
  {
   "cell_type": "markdown",
   "metadata": {},
   "source": [
    "#### Task 5\n",
    "##### Compute the confusion matrix and classification report as above. Save as `ex_best_confusion_matrix` and `ex_best_class_report` respectively.\n",
    "\n",
    "#### Result:"
   ]
  },
  {
   "cell_type": "code",
   "execution_count": 80,
   "metadata": {
    "ExecuteTime": {
     "end_time": "2020-06-22T14:52:10.085962Z",
     "start_time": "2020-06-22T14:52:10.068397Z"
    }
   },
   "outputs": [
    {
     "name": "stdout",
     "output_type": "stream",
     "text": [
      "[[10672   282]\n",
      " [  849   554]]\n"
     ]
    }
   ],
   "source": [
    "# Compute confusion matrix for best model.\n",
    "ex_best_confusion_matrix = metrics.confusion_matrix(ex_y_test, ex_best_predicted_values)\n",
    "print(ex_best_confusion_matrix)"
   ]
  },
  {
   "cell_type": "code",
   "execution_count": 81,
   "metadata": {
    "ExecuteTime": {
     "end_time": "2020-06-22T14:52:10.407343Z",
     "start_time": "2020-06-22T14:52:10.386789Z"
    }
   },
   "outputs": [
    {
     "name": "stdout",
     "output_type": "stream",
     "text": [
      "              precision    recall  f1-score   support\n",
      "\n",
      "          no       0.93      0.97      0.95     10954\n",
      "         yes       0.66      0.39      0.49      1403\n",
      "\n",
      "    accuracy                           0.91     12357\n",
      "   macro avg       0.79      0.68      0.72     12357\n",
      "weighted avg       0.90      0.91      0.90     12357\n",
      "\n"
     ]
    }
   ],
   "source": [
    "# Create a list of target names to interpret class assignments.\n",
    "target_names = ['no', 'yes']\n",
    "# Compute classification report for best model.\n",
    "ex_best_class_report = metrics.classification_report(ex_y_test, \n",
    "                                                     ex_best_predicted_values, \n",
    "                                                     target_names = target_names)\n",
    "print(ex_best_class_report)"
   ]
  },
  {
   "cell_type": "markdown",
   "metadata": {},
   "source": [
    "#### Task 6\n",
    "##### Add this accuracy score with the model name as `logistic_tuned` to our `ex_model_final` dataframe.\n",
    "##### Pickle this dataset as `ex_model_final_logistic.sav`.\n",
    "\n",
    "#### Result:"
   ]
  },
  {
   "cell_type": "code",
   "execution_count": 175,
   "metadata": {},
   "outputs": [
    {
     "name": "stdout",
     "output_type": "stream",
     "text": [
      "    metrics  values                 model\n",
      "0  accuracy  0.9073              logistic\n",
      "1  accuracy  0.9085  logistic_withdummies\n",
      "2  accuracy  0.9085        logistic_tuned\n"
     ]
    }
   ],
   "source": [
    "model_final_ex = model_final_ex.append({'metrics' : \"accuracy\" , \n",
    "                                  'values' : round(ex_test_accuracy,4),\n",
    "                                  'model':'logistic_tuned' } , \n",
    "                                  ignore_index=True)\n",
    "print(model_final_ex)"
   ]
  },
  {
   "cell_type": "code",
   "execution_count": 176,
   "metadata": {
    "ExecuteTime": {
     "end_time": "2020-06-22T14:52:12.211491Z",
     "start_time": "2020-06-22T14:52:12.201479Z"
    }
   },
   "outputs": [],
   "source": [
    "pickle.dump(model_final_ex, open(\"ex_model_final_logistic.sav\",\"wb\" ))"
   ]
  },
  {
   "cell_type": "markdown",
   "metadata": {},
   "source": [
    "#### Task 7\n",
    "##### Same as before, compute the test probabilities `ex_best_test_probabilities` and \n",
    "##### test predictions `ex_best_test_predictions`.\n",
    "##### Derive the metrics `fpr`, `tpr`, and `threshold` to plot the ROC curve. Also derive the AUC.\n",
    "\n",
    "#### Result:"
   ]
  },
  {
   "cell_type": "code",
   "execution_count": 87,
   "metadata": {
    "ExecuteTime": {
     "end_time": "2020-06-22T14:52:13.895628Z",
     "start_time": "2020-06-22T14:52:13.884838Z"
    }
   },
   "outputs": [
    {
     "name": "stdout",
     "output_type": "stream",
     "text": [
      "[[0.98814623 0.01185377]\n",
      " [0.99028578 0.00971422]\n",
      " [0.73020007 0.26979993]\n",
      " [0.99280034 0.00719966]\n",
      " [0.991039   0.008961  ]]\n"
     ]
    }
   ],
   "source": [
    "# Get probabilities instead of predicted values.\n",
    "ex_best_test_probabilities = ex_best_model.predict_proba(ex_X_test)\n",
    "print(ex_best_test_probabilities[0:5, ])"
   ]
  },
  {
   "cell_type": "code",
   "execution_count": 88,
   "metadata": {
    "ExecuteTime": {
     "end_time": "2020-06-22T14:52:14.464654Z",
     "start_time": "2020-06-22T14:52:14.455478Z"
    }
   },
   "outputs": [
    {
     "name": "stdout",
     "output_type": "stream",
     "text": [
      "[0.01185377 0.00971422 0.26979993 0.00719966 0.008961  ]\n"
     ]
    }
   ],
   "source": [
    "# Get probabilities of test predictions only.\n",
    "ex_best_test_predictions = ex_best_test_probabilities[:, 1]\n",
    "print(ex_best_test_predictions[0:5])"
   ]
  },
  {
   "cell_type": "code",
   "execution_count": 89,
   "metadata": {
    "ExecuteTime": {
     "end_time": "2020-06-22T14:52:14.963736Z",
     "start_time": "2020-06-22T14:52:14.953779Z"
    }
   },
   "outputs": [
    {
     "name": "stdout",
     "output_type": "stream",
     "text": [
      "0.9249941861456275\n"
     ]
    }
   ],
   "source": [
    "# Get ROC curve metrics.\n",
    "ex_best_fpr, ex_best_tpr, ex_best_threshold = metrics.roc_curve(ex_y_test, ex_best_test_predictions)\n",
    "ex_best_auc = metrics.auc(ex_best_fpr, ex_best_tpr)\n",
    "print(ex_best_auc)"
   ]
  },
  {
   "cell_type": "markdown",
   "metadata": {},
   "source": [
    "#### Task 8\n",
    "##### Plot the ROC curve for both models.\n",
    "\n",
    "#### Result:"
   ]
  },
  {
   "cell_type": "code",
   "execution_count": 90,
   "metadata": {
    "ExecuteTime": {
     "end_time": "2020-06-22T14:52:16.918198Z",
     "start_time": "2020-06-22T14:52:16.234469Z"
    }
   },
   "outputs": [
    {
     "data": {
      "image/png": "[encoded data removed]",
      "text/plain": [
       "<Figure size 432x288 with 1 Axes>"
      ]
     },
     "metadata": {
      "needs_background": "light"
     },
     "output_type": "display_data"
    }
   ],
   "source": [
    "# Make an ROC curve plot.\n",
    "plt.title('Receiver Operator Characteristic')\n",
    "plt.plot(fpr, tpr, 'b', \n",
    "         label = 'AUC = %0.2f'%auc)\n",
    "plt.plot(ex_best_fpr, ex_best_tpr, 'g', \n",
    "         label = 'AUC (best) = %0.2f'%ex_best_auc)\n",
    "plt.legend(loc = 'lower right')\n",
    "plt.plot([0, 1], [0, 1],'r--')\n",
    "plt.xlabel('False Positive Rate')\n",
    "plt.ylabel('True Positive Rate')\n",
    "plt.show()"
   ]
  },
  {
   "cell_type": "code",
   "execution_count": null,
   "metadata": {},
   "outputs": [],
   "source": []
  }
 ],
 "metadata": {
  "kernelspec": {
   "display_name": "Python 3",
   "language": "python",
   "name": "python3"
  },
  "language_info": {
   "codemirror_mode": {
    "name": "ipython",
    "version": 3
   },
   "file_extension": ".py",
   "mimetype": "text/x-python",
   "name": "python",
   "nbconvert_exporter": "python",
   "pygments_lexer": "ipython3",
   "version": "3.7.10"
  },
  "toc": {
   "base_numbering": 1,
   "nav_menu": {},
   "number_sections": true,
   "sideBar": true,
   "skip_h1_title": false,
   "title_cell": "Table of Contents",
   "title_sidebar": "Contents",
   "toc_cell": false,
   "toc_position": {},
   "toc_section_display": true,
   "toc_window_display": false
  }
 },
 "nbformat": 4,
 "nbformat_minor": 2
}
