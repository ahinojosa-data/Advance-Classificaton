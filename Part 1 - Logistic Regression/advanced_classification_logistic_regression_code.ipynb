{
 "cells": [
  {
   "cell_type": "code",
   "execution_count": null,
   "id": "5c91f9ab",
   "metadata": {},
   "outputs": [],
   "source": [
    "\n",
    "#######################################################\n",
    "#######################################################\n",
    "############    COPYRIGHT - DATA SOCIETY   ############\n",
    "#######################################################\n",
    "#######################################################\n",
    "\n",
    "## ADVANCED CLASSIFICATION LOGISTIC REGRESSION ##\n",
    "\n",
    "## NOTE: To run individual pieces of code, select the line of code and\n",
    "##       press ctrl + enter for PCs or command + enter for Macs\n",
    "\n"
   ]
  },
  {
   "cell_type": "code",
   "execution_count": null,
   "id": "6bc33b22",
   "metadata": {},
   "outputs": [],
   "source": [
    "#=================================================-\n",
    "#### Slide 10: Getting started: directory settings  ####\n",
    "\n",
    "from pathlib import Path\n",
    "# Set `home_dir` to the root directory of your computer.\n",
    "home_dir = Path.home()\n",
    "\n",
    "# Set `main_dir` to the location of your `advanced-classification` folder.\n",
    "main_dir = home_dir / \"Desktop\" / \"advanced-classification\"\n",
    "\n",
    "# Make `data_dir` from the `main_dir` and remainder of the path to data directory.\n",
    "data_dir = main_dir / \"data\"\n",
    "\n"
   ]
  },
  {
   "cell_type": "code",
   "execution_count": null,
   "id": "9d93f424",
   "metadata": {},
   "outputs": [],
   "source": [
    "#=================================================-\n",
    "#### Slide 11: Getting started: working directory  ####\n",
    "\n",
    "# Set working directory.\n",
    "os.chdir(data_dir)\n",
    "# Check working directory.\n",
    "print(os.getcwd())\n",
    "\n"
   ]
  },
  {
   "cell_type": "code",
   "execution_count": null,
   "id": "b1e7ecf6",
   "metadata": {},
   "outputs": [],
   "source": [
    "#=================================================-\n",
    "#### Slide 12: Getting started: loading packages  ####\n",
    "\n",
    "# Helper packages.\n",
    "import os\n",
    "import numpy as np\n",
    "import pandas as pd\n",
    "import matplotlib.pyplot as plt\n",
    "import pickle\n",
    "\n",
    "# Scikit-learn package for logistic regression.\n",
    "from sklearn import linear_model\n",
    "\n",
    "# Model set up and tuning packages from scikit-learn.\n",
    "from sklearn.model_selection import train_test_split\n",
    "from sklearn.model_selection import GridSearchCV\n",
    "\n",
    "# Scikit-learn packages for evaluating model performance.\n",
    "from sklearn import metrics\n",
    "\n",
    "# Scikit-learn package for data preprocessing.\n",
    "from sklearn import preprocessing\n",
    "\n"
   ]
  },
  {
   "cell_type": "code",
   "execution_count": null,
   "id": "4f4bae27",
   "metadata": {},
   "outputs": [],
   "source": [
    "#=================================================-\n",
    "#### Slide 26: Loading data into Python  ####\n",
    "\n",
    "credit_card = pd.read_csv(\"credit_card_data.csv\")\n",
    "print(credit_card.head())\n",
    "\n"
   ]
  },
  {
   "cell_type": "code",
   "execution_count": null,
   "id": "ec899e65",
   "metadata": {},
   "outputs": [],
   "source": [
    "#=================================================-\n",
    "#### Slide 27: Renaming target variable  ####\n",
    "\n",
    "credit_card = credit_card.rename(columns = {'default_payment_next_month' : 'default_payment'})\n",
    "print(credit_card.head())\n",
    "\n"
   ]
  },
  {
   "cell_type": "code",
   "execution_count": null,
   "id": "afc7ebea",
   "metadata": {},
   "outputs": [],
   "source": [
    "#=================================================-\n",
    "#### Slide 28: The data at first glance  ####\n",
    "\n",
    "# The data types.\n",
    "print(credit_card.dtypes)\n",
    "\n"
   ]
  },
  {
   "cell_type": "code",
   "execution_count": null,
   "id": "409095d9",
   "metadata": {},
   "outputs": [],
   "source": [
    "#=================================================-\n",
    "#### Slide 29: Frequency table of the target variable  ####\n",
    "\n",
    "print(credit_card['default_payment'].value_counts())\n",
    "\n"
   ]
  },
  {
   "cell_type": "code",
   "execution_count": null,
   "id": "2881f4b0",
   "metadata": {},
   "outputs": [],
   "source": [
    "#=================================================-\n",
    "#### Slide 30: Data prep: check for NAs  ####\n",
    "\n",
    "# Check for NAs.\n",
    "print(credit_card.isnull().sum())\n",
    "\n"
   ]
  },
  {
   "cell_type": "code",
   "execution_count": null,
   "id": "cc0976f4",
   "metadata": {},
   "outputs": [],
   "source": [
    "#=================================================-\n",
    "#### Slide 31: Filling missing values  ####\n",
    "\n",
    "# Fill missing values with mean\n",
    "credit_card = credit_card.fillna(credit_card.mean()['BILL_AMT1'])\n",
    "\n",
    "# Check for NAs in 'BILL_AMT1'.\n",
    "print(credit_card.isnull().sum()['BILL_AMT1'])\n",
    "\n"
   ]
  },
  {
   "cell_type": "code",
   "execution_count": null,
   "id": "750182b7",
   "metadata": {},
   "outputs": [],
   "source": [
    "#=================================================-\n",
    "#### Slide 32: Data prep: numeric variables  ####\n",
    "\n",
    "print(credit_card.dtypes.head())\n",
    "\n"
   ]
  },
  {
   "cell_type": "code",
   "execution_count": null,
   "id": "1c134928",
   "metadata": {},
   "outputs": [],
   "source": [
    "#=================================================-\n",
    "#### Slide 33: Data prep: target  ####\n",
    "\n",
    "print(credit_card.default_payment.dtypes)\n",
    "credit_card[\"default_payment\"] = np.where(credit_card[\"default_payment\"] == 1, True, False)\n",
    "\n",
    "# Check class again.\n",
    "print(credit_card.default_payment.dtypes)\n",
    "\n"
   ]
  },
  {
   "cell_type": "code",
   "execution_count": null,
   "id": "386305e1",
   "metadata": {},
   "outputs": [],
   "source": [
    "#=================================================-\n",
    "#### Slide 34: Subsetting data  ####\n",
    "\n",
    "credit_card_glm = credit_card[[\"LIMIT_BAL\",\"SEX\",\"EDUCATION\", \"MARRIAGE\", \"AGE\", \"default_payment\"]]\n",
    "print(credit_card_glm.head())\n",
    "\n"
   ]
  },
  {
   "cell_type": "code",
   "execution_count": null,
   "id": "2c3f9173",
   "metadata": {},
   "outputs": [],
   "source": [
    "#=================================================-\n",
    "#### Slide 35: Split into train and test set  ####\n",
    "\n",
    "# Separate predictors from data.\n",
    "X = credit_card_glm[['LIMIT_BAL', 'SEX', 'EDUCATION', 'MARRIAGE', 'AGE']]\n",
    "# Separate target from data.\n",
    "y = np.array(credit_card_glm['default_payment'])\n",
    "# Set the seed.\n",
    "np.random.seed(1)\n",
    "\n",
    "# Split data into training and test sets, use a 70 train - 30 test split.\n",
    "X_train, X_test, y_train, y_test = train_test_split(X,\n",
    "                                                    y,\n",
    "                                                    test_size = .3)\n",
    "\n",
    "\n"
   ]
  },
  {
   "cell_type": "code",
   "execution_count": null,
   "id": "a4417d59",
   "metadata": {},
   "outputs": [],
   "source": [
    "#=================================================-\n",
    "#### Slide 38: Logistic regression: build  ####\n",
    "\n",
    "# Set up logistic regression model.\n",
    "logistic_regression_model = linear_model.LogisticRegression()\n",
    "print(logistic_regression_model)\n",
    "\n"
   ]
  },
  {
   "cell_type": "code",
   "execution_count": null,
   "id": "381df4fa",
   "metadata": {},
   "outputs": [],
   "source": [
    "#=================================================-\n",
    "#### Slide 40: Logistic regression: fit  ####\n",
    "\n",
    "# Fit the model.\n",
    "logistic_regression_model.fit(X_train,\n",
    "                              y_train)\n",
    "\n"
   ]
  },
  {
   "cell_type": "code",
   "execution_count": null,
   "id": "625bf921",
   "metadata": {},
   "outputs": [],
   "source": [
    "#=================================================-\n",
    "#### Slide 42: Logistic regression: predict  ####\n",
    "\n",
    "# Predict on test data.\n",
    "predicted_values = logistic_regression_model.predict(X_test)\n",
    "print(predicted_values)\n",
    "\n"
   ]
  },
  {
   "cell_type": "code",
   "execution_count": null,
   "id": "9d2ba76f",
   "metadata": {},
   "outputs": [],
   "source": [
    "#=================================================-\n",
    "#### Slide 44: Exercise 1  ####\n",
    "\n",
    "\n",
    "\n"
   ]
  },
  {
   "cell_type": "code",
   "execution_count": null,
   "id": "99576271",
   "metadata": {},
   "outputs": [],
   "source": [
    "#=================================================-\n",
    "#### Slide 51: Confusion matrix and accuracy  ####\n",
    "\n",
    "# Take a look at test data confusion matrix.\n",
    "conf_matrix_test = metrics.confusion_matrix(y_test, predicted_values)\n",
    "print(conf_matrix_test)\n",
    "\n",
    "# Compute test model accuracy score.\n",
    "test_accuracy_score = metrics.accuracy_score(y_test, predicted_values)\n",
    "print(\"Accuracy on test data: \", test_accuracy_score)\n",
    "\n"
   ]
  },
  {
   "cell_type": "code",
   "execution_count": null,
   "id": "17829eca",
   "metadata": {},
   "outputs": [],
   "source": [
    "#=================================================-\n",
    "#### Slide 52: Classification report  ####\n",
    "\n",
    "# Create a list of target names to interpret class assignments.\n",
    "target_names = ['default_payment_0', 'default_payment_1']\n",
    "\n"
   ]
  },
  {
   "cell_type": "code",
   "execution_count": null,
   "id": "b7cfba99",
   "metadata": {},
   "outputs": [],
   "source": [
    "#=================================================-\n",
    "#### Slide 57: Model champion dataframe  ####\n",
    "\n",
    "# Create a dictionary with accuracy values for our logistic regression model.\n",
    "model_final_dict = {'metrics': [\"accuracy\"],\n",
    "                    'values':[round(test_accuracy_score, 4)],\n",
    "                    'model':['logistic']}\n",
    "\n",
    "model_final = pd.DataFrame(data = model_final_dict)\n",
    "print(model_final)\n",
    "\n"
   ]
  },
  {
   "cell_type": "code",
   "execution_count": null,
   "id": "a0765e9d",
   "metadata": {},
   "outputs": [],
   "source": [
    "#=================================================-\n",
    "#### Slide 58: Getting probabilities instead of class labels  ####\n",
    "\n",
    "# Get probabilities instead of predicted values.\n",
    "test_probabilities = logistic_regression_model.predict_proba(X_test)\n",
    "print(test_probabilities[0:5, :])\n",
    "\n",
    "# Get probabilities of test predictions only.\n",
    "test_predictions = test_probabilities[:, 1]\n",
    "print(test_predictions[0:5])\n",
    "\n"
   ]
  },
  {
   "cell_type": "code",
   "execution_count": null,
   "id": "ed75a189",
   "metadata": {},
   "outputs": [],
   "source": [
    "#=================================================-\n",
    "#### Slide 59: Computing FPR, TPR, and threshold  ####\n",
    "\n",
    "# Get FPR, TPR, and threshold values.\n",
    "fpr, tpr, threshold = metrics.roc_curve(y_test,            #<- test data labels\n",
    "                                        test_predictions)  #<- predicted probabilities\n",
    "\n",
    "print(\"False positive: \", fpr[:5])\n",
    "print(\"True positive: \", tpr[:5])\n",
    "print(\"Threshold: \", threshold[:5])\n",
    "\n"
   ]
  },
  {
   "cell_type": "code",
   "execution_count": null,
   "id": "80a62374",
   "metadata": {},
   "outputs": [],
   "source": [
    "#=================================================-\n",
    "#### Slide 60: Computing AUC  ####\n",
    "\n",
    "# Get AUC by providing the FPR and TPR.\n",
    "auc = metrics.auc(fpr, tpr)\n",
    "print(\"Area under the ROC curve: \", auc)\n",
    "\n"
   ]
  },
  {
   "cell_type": "code",
   "execution_count": null,
   "id": "95b0dc21",
   "metadata": {},
   "outputs": [],
   "source": [
    "#=================================================-\n",
    "#### Slide 61: Putting it all together: ROC plot  ####\n",
    "\n",
    "# Make an ROC curve plot.\n",
    "plt.title('Receiver Operator Characteristic')\n",
    "plt.plot(fpr, tpr, 'b', label = 'AUC = %0.2f' % auc)\n",
    "plt.legend(loc = 'lower right')\n",
    "plt.plot([0, 1], [0, 1],'r--')\n",
    "plt.xlabel('False Positive Rate')\n",
    "plt.ylabel('True Positive Rate')\n",
    "plt.show()\n",
    "\n"
   ]
  },
  {
   "cell_type": "code",
   "execution_count": null,
   "id": "6278641b",
   "metadata": {},
   "outputs": [],
   "source": [
    "#=================================================-\n",
    "#### Slide 63: Exercise 2  ####\n",
    "\n",
    "\n",
    "\n"
   ]
  },
  {
   "cell_type": "code",
   "execution_count": null,
   "id": "522a0c43",
   "metadata": {},
   "outputs": [],
   "source": [
    "#=================================================-\n",
    "#### Slide 65: Working with categorical variables  ####\n",
    "\n",
    "print(credit_card.AGE.head())\n",
    "credit_card['AGE'] = np.where(credit_card['AGE'] <= 30, \"30 or Below\",\n",
    "                              np.where(credit_card['AGE'] < 60, 'Between 30 and 60', '60 and above'))\n",
    "\n"
   ]
  },
  {
   "cell_type": "code",
   "execution_count": null,
   "id": "729659aa",
   "metadata": {},
   "outputs": [],
   "source": [
    "#=================================================-\n",
    "#### Slide 66: Working with categorical variables  ####\n",
    "\n",
    "credit_card.AGE.value_counts()\n",
    "\n"
   ]
  },
  {
   "cell_type": "code",
   "execution_count": null,
   "id": "d9d72683",
   "metadata": {},
   "outputs": [],
   "source": [
    "#=================================================-\n",
    "#### Slide 70: Transform age variable into a dummy variable  ####\n",
    "\n",
    "# Convert 'age' into dummy variables.\n",
    "age_dummy = pd.get_dummies(credit_card['AGE'], drop_first = True)\n",
    "print(age_dummy.head())\n",
    "\n"
   ]
  },
  {
   "cell_type": "code",
   "execution_count": null,
   "id": "80559f7d",
   "metadata": {},
   "outputs": [],
   "source": [
    "#=================================================-\n",
    "#### Slide 71: Drop age and replace with the dummy variable  ####\n",
    "\n",
    "# Drop `age` from the data.\n",
    "credit_card.drop(['AGE'], axis = 1, inplace = True)\n",
    "\n",
    "# Concatenate `age_dummy` to our dataset.\n",
    "credit_card = pd.concat([credit_card,age_dummy],axis=1)\n",
    "print(credit_card.head())\n",
    "\n"
   ]
  },
  {
   "cell_type": "code",
   "execution_count": null,
   "id": "7f55b78e",
   "metadata": {},
   "outputs": [],
   "source": [
    "#=================================================-\n",
    "#### Slide 72: Transform and replace other categorical variables  ####\n",
    "\n",
    "# Convert 'sex' into dummy variables.\n",
    "sex_dummy = pd.get_dummies(credit_card['SEX'], prefix = 'sex', drop_first = True)\n",
    "# Convert 'education' into dummy variables.\n",
    "education_dummy = pd.get_dummies(credit_card['EDUCATION'], prefix = 'education', drop_first = True)\n",
    "# Convert 'marriage' into dummy variables.\n",
    "marriage_dummy = pd.get_dummies(credit_card['MARRIAGE'], prefix = 'marriage', drop_first = True)\n",
    "\n",
    "# Drop `sex`, `education`, `marriage` from the data.\n",
    "credit_card.drop(['SEX', 'EDUCATION', 'MARRIAGE'], axis = 1, inplace = True)\n",
    "\n",
    "# Concatenate `sex_dummy`, `education_dummy`, `marriage_dummy` to our dataset.\n",
    "credit_card = pd.concat([credit_card,sex_dummy,education_dummy,marriage_dummy],axis=1)\n",
    "print(credit_card.head())\n",
    "\n"
   ]
  },
  {
   "cell_type": "code",
   "execution_count": null,
   "id": "7ce10d19",
   "metadata": {},
   "outputs": [],
   "source": [
    "#=================================================-\n",
    "#### Slide 74: Split into train and test set  ####\n",
    "\n",
    "# Separate predictors from data.\n",
    "# We can just drop the target variable, as we are using all other variables as predictors.\n",
    "X = credit_card.drop('default_payment', axis = 1)\n",
    "\n",
    "# Separate target from data.\n",
    "y = np.array(credit_card['default_payment'])\n",
    "\n",
    "# Set the seed.\n",
    "np.random.seed(1)\n",
    "# Split data into training and test sets, use a 70 train - 30 test split.\n",
    "X_train, X_test, y_train, y_test = train_test_split(X,\n",
    "                                                    y,\n",
    "                                                    test_size = .3)\n",
    "\n"
   ]
  },
  {
   "cell_type": "code",
   "execution_count": null,
   "id": "8b4cf197",
   "metadata": {},
   "outputs": [],
   "source": [
    "#=================================================-\n",
    "#### Slide 75: Logistic regression: build  ####\n",
    "\n",
    "# Set up the logistic regression model.\n",
    "logistic_regression_model = linear_model.LogisticRegression(solver='liblinear')\n",
    "print(logistic_regression_model)\n",
    "\n"
   ]
  },
  {
   "cell_type": "code",
   "execution_count": null,
   "id": "17277320",
   "metadata": {},
   "outputs": [],
   "source": [
    "#=================================================-\n",
    "#### Slide 76: Logistic regression: fit  ####\n",
    "\n",
    "# Fit the model.\n",
    "logistic_regression_model.fit(X_train,\n",
    "                              y_train)\n",
    "\n"
   ]
  },
  {
   "cell_type": "code",
   "execution_count": null,
   "id": "6087a032",
   "metadata": {},
   "outputs": [],
   "source": [
    "#=================================================-\n",
    "#### Slide 77: Logistic regression: predict  ####\n",
    "\n",
    "# Predict on test data.\n",
    "predicted_values = logistic_regression_model.predict(X_test)\n",
    "print(predicted_values)\n",
    "\n"
   ]
  },
  {
   "cell_type": "code",
   "execution_count": null,
   "id": "f6105e49",
   "metadata": {},
   "outputs": [],
   "source": [
    "#=================================================-\n",
    "#### Slide 78: Confusion matrix and accuracy  ####\n",
    "\n",
    "# Take a look at test data confusion matrix.\n",
    "conf_matrix_test = metrics.confusion_matrix(y_test, predicted_values)\n",
    "print(conf_matrix_test)\n",
    "\n",
    "# Compute test model accuracy score.\n",
    "test_accuracy_score = metrics.accuracy_score(y_test, predicted_values)\n",
    "print(\"Accuracy on test data: \", test_accuracy_score)\n",
    "\n"
   ]
  },
  {
   "cell_type": "code",
   "execution_count": null,
   "id": "98f3ff60",
   "metadata": {},
   "outputs": [],
   "source": [
    "#=================================================-\n",
    "#### Slide 79: Add accuracy score to the final scores  ####\n",
    "\n",
    "model_final = model_final.append({'metrics' : \"accuracy\" ,\n",
    "                                  'values' : round(test_accuracy_score,4),\n",
    "                                  'model':'logistic_whole_dataset'} ,\n",
    "                                 ignore_index = True)\n",
    "print(model_final)\n",
    "\n"
   ]
  },
  {
   "cell_type": "code",
   "execution_count": null,
   "id": "40b68de4",
   "metadata": {},
   "outputs": [],
   "source": [
    "#=================================================-\n",
    "#### Slide 80: Accuracy on train vs accuracy on test  ####\n",
    "\n",
    "# Compute trained model accuracy score.\n",
    "trained_accuracy_score = logistic_regression_model.score(X_train, y_train)\n",
    "print(\"Accuracy on train data: \" , trained_accuracy_score)\n",
    "\n"
   ]
  },
  {
   "cell_type": "code",
   "execution_count": null,
   "id": "8fbc62cb",
   "metadata": {},
   "outputs": [],
   "source": [
    "#=================================================-\n",
    "#### Slide 82: Exercise 3  ####\n",
    "\n",
    "\n",
    "\n"
   ]
  },
  {
   "cell_type": "code",
   "execution_count": null,
   "id": "d103cfd2",
   "metadata": {},
   "outputs": [],
   "source": [
    "#=================================================-\n",
    "#### Slide 94: Prepare parameters for optimization  ####\n",
    "\n",
    "# Create regularization penalty space.\n",
    "penalty = ['l1', 'l2']\n",
    "# Create regularization constant space.\n",
    "C = np.logspace(0, 10, 10)\n",
    "print(\"Regularization constant: \", C)\n",
    "\n",
    "# Create hyperparameter options dictionary.\n",
    "hyperparameters = dict(C = C, penalty = penalty)\n",
    "print(hyperparameters)\n",
    "\n"
   ]
  },
  {
   "cell_type": "code",
   "execution_count": null,
   "id": "e5882d13",
   "metadata": {},
   "outputs": [],
   "source": [
    "#=================================================-\n",
    "#### Slide 95: Set up cross-validation logistic function  ####\n",
    "\n",
    "# Grid search 10-fold cross-validation with above parameters.\n",
    "clf = GridSearchCV(linear_model.LogisticRegression(solver='liblinear'), #<- function to optimize\n",
    "                   hyperparameters,                   #<- grid search parameters\n",
    "                   cv = 10,                           #<- 10-fold cv\n",
    "                   verbose = 0)                       #<- no messages to show\n",
    "\n",
    "# Fit CV grid search.\n",
    "best_model = clf.fit(X_train, y_train) \n",
    "best_model\n",
    "\n"
   ]
  },
  {
   "cell_type": "code",
   "execution_count": null,
   "id": "f8c30776",
   "metadata": {},
   "outputs": [],
   "source": [
    "#=================================================-\n",
    "#### Slide 96: Check best parameters found by CV  ####\n",
    "\n",
    "# Get best penalty and constant parameters.\n",
    "penalty = best_model.best_estimator_.get_params()['penalty'] \n",
    "constant = best_model.best_estimator_.get_params()['C'] \n",
    "print('Best penalty: ', penalty)\n",
    "\n",
    "print('Best C: ', constant)"
   ]
  },
  {
   "cell_type": "code",
   "execution_count": null,
   "id": "cbfe16a6",
   "metadata": {},
   "outputs": [],
   "source": [
    "#=================================================-\n",
    "#### Slide 97: Predict using the best model parameters  ####\n",
    "\n",
    "# Predict on test data using best model.\n",
    "best_predicted_values = best_model.predict(X_test) \n",
    "print(best_predicted_values)\n",
    "\n",
    "# Compute best model accuracy score.\n",
    "best_accuracy_score = metrics.accuracy_score(y_test, best_predicted_values) \n",
    "print(\"Accuracy on test data (best model): \", best_accuracy_score)"
   ]
  },
  {
   "cell_type": "code",
   "execution_count": null,
   "id": "e10e6d70",
   "metadata": {},
   "outputs": [],
   "source": [
    "#=================================================-\n",
    "#### Slide 97: Predict using the best model parameters (cont'd)  ####\n",
    "\n",
    "# Compute confusion matrix for best model.\n",
    "best_confusion_matrix = metrics.confusion_matrix(y_test, best_predicted_values) \n",
    "print(best_confusion_matrix)\n",
    "\n",
    "# Create a list of target names to interpret class assignments.\n",
    "target_names = ['default_payment_no', 'default_payment_yes']\n",
    "\n",
    "# Compute classification report for best model.\n",
    "best_class_report = metrics.classification_report(y_test, best_predicted_values,\n",
    "                                                  target_names = target_names)\n",
    "print(best_class_report)\n",
    "\n"
   ]
  },
  {
   "cell_type": "code",
   "execution_count": null,
   "id": "f481ca23",
   "metadata": {},
   "outputs": [],
   "source": [
    "#=================================================-\n",
    "#### Slide 99: Add accuracy score to the final scores  ####\n",
    "\n",
    "model_final = model_final.append({'metrics' : \"accuracy\",\n",
    "                                  'values' : round(best_accuracy_score, 4),\n",
    "                                  'model':'logistic_tuned' } ,\n",
    "                                 ignore_index = True)\n",
    "\n",
    "print(model_final)\n",
    "pickle.dump(model_final, open(\"model_final.sav\",\"wb\" ))\n",
    "\n"
   ]
  },
  {
   "cell_type": "code",
   "execution_count": null,
   "id": "76c3a62c",
   "metadata": {},
   "outputs": [],
   "source": [
    "#=================================================-\n",
    "#### Slide 100: Get metrics for ROC curve  ####\n",
    "\n",
    "# Get probabilities instead of predicted values.\n",
    "best_test_probabilities = best_model.predict_proba(X_test) \n",
    "print(best_test_probabilities[0:5, ])\n",
    "\n",
    "# Get probabilities of test predictions only.\n",
    "best_test_predictions = best_test_probabilities[:, 1] \n",
    "print(best_test_predictions[0:5])"
   ]
  },
  {
   "cell_type": "code",
   "execution_count": null,
   "id": "e4bcc384",
   "metadata": {},
   "outputs": [],
   "source": [
    "#=================================================-\n",
    "#### Slide 100: Get metrics for ROC curve (cont'd)  ####\n",
    "\n",
    "# Get ROC curve metrics.\n",
    "best_fpr, best_tpr, best_threshold = metrics.roc_curve(y_test, best_test_predictions) \n",
    "best_auc = metrics.auc(best_fpr, best_tpr)\n",
    "print(\"Area under the ROC curve: \", best_auc)"
   ]
  },
  {
   "cell_type": "code",
   "execution_count": null,
   "id": "4a79bc26",
   "metadata": {},
   "outputs": [],
   "source": [
    "#=================================================-\n",
    "#### Slide 102: Plot ROC curve for both models  ####\n",
    "\n",
    "# Make an ROC curve plot.\n",
    "plt.title('Receiver Operator Characteristic')\n",
    "plt.plot(fpr, tpr, 'blue',\n",
    "label = 'AUC = %0.2f'%auc)\n",
    "plt.plot(best_fpr, best_tpr, 'black',\n",
    "label = 'AUC (best) = %0.2f'%best_auc)\n",
    "plt.legend(loc = 'lower right')\n",
    "plt.plot([0, 1], [0, 1],'r--')\n",
    "plt.xlabel('False Positive Rate')\n",
    "plt.ylabel('True Positive Rate')\n",
    "plt.show()\n",
    "\n"
   ]
  }
 ],
 "metadata": {
  "kernelspec": {
   "display_name": "Python 3",
   "language": "python",
   "name": "python3"
  },
  "language_info": {
   "codemirror_mode": {
    "name": "ipython",
    "version": 3
   },
   "file_extension": ".py",
   "mimetype": "text/x-python",
   "name": "python",
   "nbconvert_exporter": "python",
   "pygments_lexer": "ipython3",
   "version": "3.7.10"
  }
 },
 "nbformat": 4,
 "nbformat_minor": 5
}
