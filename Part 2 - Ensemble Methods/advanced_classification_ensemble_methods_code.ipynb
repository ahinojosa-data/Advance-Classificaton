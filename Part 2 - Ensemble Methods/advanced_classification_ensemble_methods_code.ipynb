{
 "cells": [
  {
   "cell_type": "code",
   "execution_count": null,
   "id": "ec9aae68",
   "metadata": {},
   "outputs": [],
   "source": [
    "\n",
    "#######################################################\n",
    "#######################################################\n",
    "############    COPYRIGHT - DATA SOCIETY   ############\n",
    "#######################################################\n",
    "#######################################################\n",
    "\n",
    "## ADVANCED CLASSIFICATION ENSEMBLE METHODS ##\n",
    "\n",
    "## NOTE: To run individual pieces of code, select the line of code and\n",
    "##       press ctrl + enter for PCs or command + enter for Macs\n",
    "\n"
   ]
  },
  {
   "cell_type": "code",
   "execution_count": null,
   "id": "d71934d8",
   "metadata": {},
   "outputs": [],
   "source": [
    "#=================================================-\n",
    "#### Slide 20: Directory settings  ####\n",
    "\n",
    "from pathlib import Path\n",
    "# Set `home_dir` to the root directory of your computer.\n",
    "home_dir = Path.home()\n",
    "\n",
    "# Set `main_dir` to the location of your `advanced-classification` folder.\n",
    "main_dir = home_dir / \"Desktop\" / \"advanced-classification\"\n",
    "\n",
    "# Make `data_dir` from the `main_dir` and remainder of the path to data directory.\n",
    "data_dir = main_dir / \"data\"\n",
    "\n"
   ]
  },
  {
   "cell_type": "code",
   "execution_count": null,
   "id": "d8115b1b",
   "metadata": {},
   "outputs": [],
   "source": [
    "#=================================================-\n",
    "#### Slide 21: Working directory  ####\n",
    "\n",
    "# Set working directory.\n",
    "os.chdir(data_dir)\n",
    "# Check working directory.\n",
    "print(os.getcwd())\n",
    "\n"
   ]
  },
  {
   "cell_type": "code",
   "execution_count": null,
   "id": "00ca7ad0",
   "metadata": {},
   "outputs": [],
   "source": [
    "#=================================================-\n",
    "#### Slide 22: Loading packages  ####\n",
    "\n",
    "# Helper packages.\n",
    "import os\n",
    "import numpy as np\n",
    "import pandas as pd\n",
    "import matplotlib.pyplot as plt\n",
    "from textwrap import wrap\n",
    "import pickle\n",
    "# Model set up and tuning packages from scikit-learn.\n",
    "from sklearn.model_selection import train_test_split\n",
    "\n",
    "# Scikit-learn package for data preprocessing.\n",
    "from sklearn import preprocessing\n",
    "\n",
    "# Scikit-learn packages for evaluating model performance.\n",
    "from sklearn import metrics\n",
    "from sklearn.metrics import accuracy_score, classification_report, confusion_matrix\n",
    "# Random forests and boosting packages\n",
    "from sklearn.ensemble import RandomForestClassifier\n",
    "from sklearn.ensemble import GradientBoostingClassifier\n",
    "\n"
   ]
  },
  {
   "cell_type": "code",
   "execution_count": null,
   "id": "e483bfa4",
   "metadata": {},
   "outputs": [],
   "source": [
    "#=================================================-\n",
    "#### Slide 23: Loading data into Python  ####\n",
    "\n",
    "credit_card = pd.read_csv(\"credit_card_data.csv\")\n",
    "print(credit_card.head())\n",
    "\n"
   ]
  },
  {
   "cell_type": "code",
   "execution_count": null,
   "id": "3dbaf979",
   "metadata": {},
   "outputs": [],
   "source": [
    "#=================================================-\n",
    "#### Slide 24: Renaming target variable  ####\n",
    "\n",
    "credit_card = credit_card.rename(columns = {'default_payment_next_month' : 'default_payment'})\n",
    "print(credit_card.head())\n",
    "\n"
   ]
  },
  {
   "cell_type": "code",
   "execution_count": null,
   "id": "1f89b52d",
   "metadata": {},
   "outputs": [],
   "source": [
    "#=================================================-\n",
    "#### Slide 25: The data at first glance  ####\n",
    "\n",
    "# The first 5 rows.\n",
    "print(credit_card.head())\n",
    "# The data types.\n",
    "print(credit_card.dtypes)\n",
    "\n"
   ]
  },
  {
   "cell_type": "code",
   "execution_count": null,
   "id": "02c65758",
   "metadata": {},
   "outputs": [],
   "source": [
    "#=================================================-\n",
    "#### Slide 26: Frequency table of the target variable  ####\n",
    "\n",
    "print(credit_card['default_payment'].value_counts())\n",
    "\n"
   ]
  },
  {
   "cell_type": "code",
   "execution_count": null,
   "id": "8a03d5fe",
   "metadata": {},
   "outputs": [],
   "source": [
    "#=================================================-\n",
    "#### Slide 27: Data prep: check for NAs  ####\n",
    "\n",
    "# Check for NAs.\n",
    "print(credit_card.isnull().sum())\n",
    "\n"
   ]
  },
  {
   "cell_type": "code",
   "execution_count": null,
   "id": "755b5a38",
   "metadata": {},
   "outputs": [],
   "source": [
    "#=================================================-\n",
    "#### Slide 28: Filling missing values  ####\n",
    "\n",
    "# Fill missing values with mean\n",
    "credit_card = credit_card.fillna(credit_card.mean()['BILL_AMT1'])\n",
    "# Check for NAs in 'BILL_AMT1'.\n",
    "print(credit_card.isnull().sum()['BILL_AMT1'])\n",
    "\n"
   ]
  },
  {
   "cell_type": "code",
   "execution_count": null,
   "id": "190bdfb1",
   "metadata": {},
   "outputs": [],
   "source": [
    "#=================================================-\n",
    "#### Slide 29: Transform categorical variables into dummies  ####\n",
    "\n",
    "# Convert 'sex' into dummy variables.\n",
    "sex_dummy = pd.get_dummies(credit_card['SEX'], prefix = 'sex', drop_first = True)\n",
    "# Convert 'education' into dummy variables.\n",
    "education_dummy = pd.get_dummies(credit_card['EDUCATION'], prefix = 'education', drop_first = True)\n",
    "# Convert 'marriage' into dummy variables.\n",
    "marriage_dummy = pd.get_dummies(credit_card['MARRIAGE'], prefix = 'marriage', drop_first = True)\n",
    "\n",
    "# Drop `sex`, `education`, `marriage` from the data.\n",
    "credit_card.drop(['SEX', 'EDUCATION', 'MARRIAGE'], axis = 1, inplace = True)\n",
    "\n",
    "# Concatenate `sex_dummy`, `education_dummy`, `marriage_dummy` to our dataset.\n",
    "credit_card = pd.concat([credit_card,sex_dummy,education_dummy,marriage_dummy],axis=1)\n",
    "print(credit_card.head())\n",
    "\n"
   ]
  },
  {
   "cell_type": "code",
   "execution_count": null,
   "id": "5ca4fbe6",
   "metadata": {},
   "outputs": [],
   "source": [
    "#=================================================-\n",
    "#### Slide 30: Data prep: ready for random forests  ####\n",
    "\n",
    "print(credit_card.default_payment.dtypes)\n",
    "credit_card[\"default_payment\"] = np.where(credit_card[\"default_payment\"] == 1, True, False)\n",
    "\n",
    "# Check class again.\n",
    "print(credit_card.default_payment.dtypes)\n",
    "\n",
    "#dropping unnecessary identifier 'ID'\n",
    "credit_card = credit_card.drop('ID',axis = 1)\n",
    "\n"
   ]
  },
  {
   "cell_type": "code",
   "execution_count": null,
   "id": "6a508466",
   "metadata": {},
   "outputs": [],
   "source": [
    "#=================================================-\n",
    "#### Slide 32: Exercise 1  ####\n",
    "\n",
    "\n",
    "\n"
   ]
  },
  {
   "cell_type": "code",
   "execution_count": null,
   "id": "d4dc01fd",
   "metadata": {},
   "outputs": [],
   "source": [
    "#=================================================-\n",
    "#### Slide 35: Split into training and test sets  ####\n",
    "\n",
    "# Split the predictors from data.\n",
    "X = credit_card.drop('default_payment', axis = 1)\n",
    "\n",
    "# Separate target from data.\n",
    "y = np.array(credit_card['default_payment'])\n",
    "\n",
    "# Set the seed.\n",
    "np.random.seed(1)\n",
    "\n",
    "# Split the data into training and test set, use a 70 train - 30 test split.\n",
    "X_train, X_test, y_train, y_test = train_test_split(X,\n",
    "                                                    y,\n",
    "                                                    test_size = .3)\n",
    "\n",
    "\n"
   ]
  },
  {
   "cell_type": "code",
   "execution_count": null,
   "id": "e41fae1d",
   "metadata": {},
   "outputs": [],
   "source": [
    "#=================================================-\n",
    "#### Slide 37: Building our model  ####\n",
    "\n",
    "forest = RandomForestClassifier(criterion = 'gini',\n",
    "                                n_estimators = 100,\n",
    "                                random_state = 1)\n",
    "\n"
   ]
  },
  {
   "cell_type": "code",
   "execution_count": null,
   "id": "ebe7de6b",
   "metadata": {},
   "outputs": [],
   "source": [
    "#=================================================-\n",
    "#### Slide 38: Fitting our model  ####\n",
    "\n",
    "# Fit the saved model to your training data.\n",
    "forest.fit(X_train, y_train)\n",
    "\n"
   ]
  },
  {
   "cell_type": "code",
   "execution_count": null,
   "id": "d93f1880",
   "metadata": {},
   "outputs": [],
   "source": [
    "#=================================================-\n",
    "#### Slide 39: Predicting with our data  ####\n",
    "\n",
    "# Predict on test data.\n",
    "y_predict_forest = forest.predict(X_test)\n",
    "\n",
    "# Look at the first few predictions.\n",
    "print(y_predict_forest[0:5,])\n",
    "\n"
   ]
  },
  {
   "cell_type": "code",
   "execution_count": null,
   "id": "013bd40a",
   "metadata": {},
   "outputs": [],
   "source": [
    "#=================================================-\n",
    "#### Slide 41: Confusion matrix and accuracy  ####\n",
    "\n",
    "# Take a look at test data confusion matrix.\n",
    "conf_matrix_forest = metrics.confusion_matrix(y_test, y_predict_forest)\n",
    "print(conf_matrix_forest)\n",
    "\n",
    "accuracy_forest = metrics.accuracy_score(y_test, y_predict_forest)\n",
    "print(\"Accuracy for random forests on test data: \", accuracy_forest)\n",
    "\n"
   ]
  },
  {
   "cell_type": "code",
   "execution_count": null,
   "id": "5eec962c",
   "metadata": {},
   "outputs": [],
   "source": [
    "#=================================================-\n",
    "#### Slide 42: Accuracy of the training dataset  ####\n",
    "\n",
    "# Compute accuracy using training data.\n",
    "acc_train_forest = forest.score(X_train, y_train)\n",
    "\n",
    "print (\"Train Accuracy:\", acc_train_forest)\n",
    "\n"
   ]
  },
  {
   "cell_type": "code",
   "execution_count": null,
   "id": "47bc598d",
   "metadata": {},
   "outputs": [],
   "source": [
    "#=================================================-\n",
    "#### Slide 43: Evaluation of random forests  ####\n",
    "\n",
    "model_final = pickle.load(open(\"model_final.sav\",\"rb\"))\n",
    "\n",
    "#Add this model to our model champion dataframe.\n",
    "model_final = model_final.append({'metrics': \"accuracy\",\n",
    "                                  'values':round(accuracy_forest,4),\n",
    "                                  'model':'random_forest'},\n",
    "                                 ignore_index = True)\n",
    "\n",
    "print(model_final)\n",
    "\n"
   ]
  },
  {
   "cell_type": "code",
   "execution_count": null,
   "id": "47c64bd4",
   "metadata": {},
   "outputs": [],
   "source": [
    "#=================================================-\n",
    "#### Slide 46: Subsetting our features  ####\n",
    "\n",
    "credit_card_features = credit_card.drop('default_payment', axis = 1)\n",
    "\n",
    "features = credit_card_features.columns\n",
    "importances = forest.feature_importances_\n",
    "indices = np.argsort(importances)[::-1]\n",
    "top_indices = indices[0:10][::-1]\n",
    "\n",
    "plt.figure(1)\n",
    "plt.title('Feature Importance')\n",
    "plt.barh(range(len(top_indices)), importances[top_indices], color = 'b', align = 'center')\n",
    "labels = features[top_indices]\n",
    "labels = [ '\\n'.join(wrap(l,13)) for l in labels ]\n",
    "plt.yticks(range(len(top_indices)), labels)\n",
    "plt.xlabel('Relative Importance')\n",
    "\n"
   ]
  },
  {
   "cell_type": "code",
   "execution_count": null,
   "id": "354d4045",
   "metadata": {},
   "outputs": [],
   "source": [
    "#=================================================-\n",
    "#### Slide 49: Exercise 2  ####\n",
    "\n",
    "\n",
    "\n"
   ]
  },
  {
   "cell_type": "code",
   "execution_count": null,
   "id": "bcd76300",
   "metadata": {},
   "outputs": [],
   "source": [
    "#=================================================-\n",
    "#### Slide 61: Boosting: build model  ####\n",
    "\n",
    "# Save the parameters we will be using for our gradient boosting classifier.\n",
    "gbm = GradientBoostingClassifier(n_estimators = 200,\n",
    "                                 learning_rate = 1,\n",
    "                                 max_depth = 2,\n",
    "                                 random_state = 1)\n",
    "\n"
   ]
  },
  {
   "cell_type": "code",
   "execution_count": null,
   "id": "905973d2",
   "metadata": {},
   "outputs": [],
   "source": [
    "#=================================================-\n",
    "#### Slide 62: Boosting: fit model  ####\n",
    "\n",
    "# Fit the saved model to your training data.\n",
    "gbm.fit(X_train, y_train)\n",
    "\n"
   ]
  },
  {
   "cell_type": "code",
   "execution_count": null,
   "id": "a5c7a338",
   "metadata": {},
   "outputs": [],
   "source": [
    "#=================================================-\n",
    "#### Slide 63: Boosting: predict  ####\n",
    "\n",
    "# Predict on test data.\n",
    "predicted_values_gbm = gbm.predict(X_test)\n",
    "print(predicted_values_gbm)\n",
    "\n"
   ]
  },
  {
   "cell_type": "code",
   "execution_count": null,
   "id": "b432dcf7",
   "metadata": {},
   "outputs": [],
   "source": [
    "#=================================================-\n",
    "#### Slide 64: Confusion matrix and accuracy  ####\n",
    "\n",
    "# Take a look at test data confusion matrix.\n",
    "conf_matrix_boosting = metrics.confusion_matrix(y_test, predicted_values_gbm)\n",
    "print(conf_matrix_boosting)\n",
    "\n",
    "# Compute test model accuracy score.\n",
    "accuracy_gbm = metrics.accuracy_score(y_test, predicted_values_gbm)\n",
    "print('Accuracy of gbm on test data: ', accuracy_gbm)\n",
    "\n"
   ]
  },
  {
   "cell_type": "code",
   "execution_count": null,
   "id": "7f89ab06",
   "metadata": {},
   "outputs": [],
   "source": [
    "#=================================================-\n",
    "#### Slide 65: Accuracy of training model  ####\n",
    "\n",
    "# Compute accuracy using training data.\n",
    "train_accuracy_gbm = gbm.score(X_train, y_train)\n",
    "\n",
    "print (\"Train Accuracy:\", train_accuracy_gbm)\n",
    "\n"
   ]
  },
  {
   "cell_type": "code",
   "execution_count": null,
   "id": "d7bcf333",
   "metadata": {},
   "outputs": [],
   "source": [
    "#=================================================-\n",
    "#### Slide 66: Add final accuracy to the pickled dataframe  ####\n",
    "\n",
    "# Add the model to our dataframe.\n",
    "model_final = model_final.append(\n",
    "    {'metrics' : \"accuracy\" ,\n",
    "     'values' : round(accuracy_gbm,4),\n",
    "     'model': 'boosting' } ,\n",
    "    ignore_index = True)\n",
    "\n",
    "print(model_final)\n",
    "\n"
   ]
  },
  {
   "cell_type": "code",
   "execution_count": null,
   "id": "d006fa22",
   "metadata": {},
   "outputs": [],
   "source": [
    "#=================================================-\n",
    "#### Slide 67: Our top 10 features  ####\n",
    "\n",
    "features = credit_card_features.columns\n",
    "importances = gbm.feature_importances_\n",
    "indices = np.argsort(importances)[::-1]\n",
    "top_indices = indices[0:10][::-1]\n",
    "\n",
    "plt.figure(1)\n",
    "plt.title('Feature Importance')\n",
    "plt.barh(range(len(top_indices)), importances[top_indices], color = 'b', align = 'center')\n",
    "labels = features[top_indices]\n",
    "labels = [ '\\n'.join(wrap(l,13)) for l in labels ]\n",
    "plt.yticks(range(len(top_indices)), features[top_indices])\n",
    "plt.xlabel('Relative Importance')\n",
    "\n"
   ]
  }
 ],
 "metadata": {
  "kernelspec": {
   "display_name": "Python 3",
   "language": "python",
   "name": "python3"
  },
  "language_info": {
   "codemirror_mode": {
    "name": "ipython",
    "version": 3
   },
   "file_extension": ".py",
   "mimetype": "text/x-python",
   "name": "python",
   "nbconvert_exporter": "python",
   "pygments_lexer": "ipython3",
   "version": "3.7.10"
  }
 },
 "nbformat": 4,
 "nbformat_minor": 5
}
